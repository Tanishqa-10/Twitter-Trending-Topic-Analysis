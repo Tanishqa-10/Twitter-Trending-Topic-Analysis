{
  "nbformat": 4,
  "nbformat_minor": 0,
  "metadata": {
    "colab": {
      "name": "MiniProject.ipynb",
      "provenance": [],
      "collapsed_sections": [
        "38zk1xzhebsv"
      ],
      "include_colab_link": true
    },
    "kernelspec": {
      "name": "python3",
      "display_name": "Python 3"
    },
    "language_info": {
      "name": "python"
    }
  },
  "cells": [
    {
      "cell_type": "markdown",
      "metadata": {
        "id": "view-in-github",
        "colab_type": "text"
      },
      "source": [
        "<a href=\"https://colab.research.google.com/github/Tanishqa-10/Twitter-Trending-Topic-Analysis/blob/main/MiniProject.ipynb\" target=\"_parent\"><img src=\"https://colab.research.google.com/assets/colab-badge.svg\" alt=\"Open In Colab\"/></a>"
      ]
    },
    {
      "cell_type": "markdown",
      "source": [
        "# **TWITTER TRENDING TOPIC ANALYSIS USING NLP**"
      ],
      "metadata": {
        "id": "EFi_kBV7dGM-"
      }
    },
    {
      "cell_type": "markdown",
      "source": [
        "# Scrapping data "
      ],
      "metadata": {
        "id": "tYESpdJwH0RZ"
      }
    },
    {
      "cell_type": "code",
      "source": [
        "!pip install -q snscrape"
      ],
      "metadata": {
        "id": "IZesfUv3DwC_"
      },
      "execution_count": null,
      "outputs": []
    },
    {
      "cell_type": "code",
      "source": [
        "import pandas as pd\n",
        "import snscrape.modules.twitter as sntwitter\n",
        "import itertools"
      ],
      "metadata": {
        "id": "Ls6Ke_ABHc1G"
      },
      "execution_count": null,
      "outputs": []
    },
    {
      "cell_type": "code",
      "source": [
        "loc = '19.0843, 72.8360,500km'\n",
        "df_coord = pd.DataFrame(itertools.islice(sntwitter.TwitterSearchScraper(\n",
        "    'geocode:\"{}\"'.format(loc)).get_items(), 50))[['date', 'content']]"
      ],
      "metadata": {
        "id": "JjMoYhsMHfAE"
      },
      "execution_count": null,
      "outputs": []
    },
    {
      "cell_type": "code",
      "source": [
        "print(\"Data downloaded successfully\")\n",
        "df_coord.to_csv('twitter_data.csv')"
      ],
      "metadata": {
        "id": "NIWMsAn-Hs8p",
        "colab": {
          "base_uri": "https://localhost:8080/"
        },
        "outputId": "fe35dd19-de9a-497f-f8bd-2d08d95b4e5b"
      },
      "execution_count": null,
      "outputs": [
        {
          "output_type": "stream",
          "name": "stdout",
          "text": [
            "Data downloaded successfully\n"
          ]
        }
      ]
    },
    {
      "cell_type": "markdown",
      "source": [
        "# Importing required libraries :"
      ],
      "metadata": {
        "id": "HAgobaHgH8WL"
      }
    },
    {
      "cell_type": "code",
      "source": [
        "import numpy as np\n",
        "import pandas as pd \n",
        "import re\n",
        "\n",
        "import gensim\n",
        "from gensim import corpora, models, similarities\n",
        "from gensim.parsing.preprocessing import STOPWORDS\n",
        "from nltk.corpus import stopwords\n",
        "\n",
        "home = '../input/twitterrecentindia/'"
      ],
      "metadata": {
        "id": "Li72u9BXH6Qr"
      },
      "execution_count": null,
      "outputs": []
    },
    {
      "cell_type": "markdown",
      "source": [
        "# Cleaning Data"
      ],
      "metadata": {
        "id": "69hQOZobJcUN"
      }
    },
    {
      "cell_type": "markdown",
      "source": [
        "# 1] Delete unnecessary data: usernames, emails, hyperlinks, punctuation, duplicate characters, and special characters like smileys (emoji)."
      ],
      "metadata": {
        "id": "u1J9vkzWJVjp"
      }
    },
    {
      "cell_type": "code",
      "source": [
        "!pip install demoji\n",
        "\n",
        "import demoji\n",
        "demoji.download_codes()\n"
      ],
      "metadata": {
        "id": "53AfsTAcJTO6",
        "outputId": "8f48fa53-9015-465b-8e25-38752a96f4f1",
        "colab": {
          "base_uri": "https://localhost:8080/"
        }
      },
      "execution_count": null,
      "outputs": [
        {
          "output_type": "stream",
          "name": "stdout",
          "text": [
            "Collecting demoji\n",
            "  Downloading demoji-1.1.0-py3-none-any.whl (42 kB)\n",
            "\u001b[?25l\r\u001b[K     |███████▋                        | 10 kB 28.1 MB/s eta 0:00:01\r\u001b[K     |███████████████▎                | 20 kB 33.6 MB/s eta 0:00:01\r\u001b[K     |███████████████████████         | 30 kB 17.2 MB/s eta 0:00:01\r\u001b[K     |██████████████████████████████▋ | 40 kB 12.8 MB/s eta 0:00:01\r\u001b[K     |████████████████████████████████| 42 kB 1.0 MB/s \n",
            "\u001b[?25hInstalling collected packages: demoji\n",
            "Successfully installed demoji-1.1.0\n"
          ]
        },
        {
          "output_type": "stream",
          "name": "stderr",
          "text": [
            "/usr/local/lib/python3.7/dist-packages/ipykernel_launcher.py:4: FutureWarning: The demoji.download_codes attribute is deprecated and will be removed from demoji in a future version. It is an unused attribute as emoji codes are now distributed directly with the demoji package.\n",
            "  after removing the cwd from sys.path.\n"
          ]
        }
      ]
    },
    {
      "cell_type": "code",
      "source": [
        "df_coord"
      ],
      "metadata": {
        "colab": {
          "base_uri": "https://localhost:8080/",
          "height": 1000
        },
        "id": "DPHGoj2WFbu6",
        "outputId": "80478d5d-1134-48e8-beb5-f18bf20046cc"
      },
      "execution_count": null,
      "outputs": [
        {
          "output_type": "execute_result",
          "data": {
            "text/plain": [
              "                        date  \\\n",
              "0  2022-04-26 06:39:46+00:00   \n",
              "1  2022-04-26 06:39:46+00:00   \n",
              "2  2022-04-26 06:39:46+00:00   \n",
              "3  2022-04-26 06:39:46+00:00   \n",
              "4  2022-04-26 06:39:46+00:00   \n",
              "5  2022-04-26 06:39:46+00:00   \n",
              "6  2022-04-26 06:39:46+00:00   \n",
              "7  2022-04-26 06:39:45+00:00   \n",
              "8  2022-04-26 06:39:45+00:00   \n",
              "9  2022-04-26 06:39:45+00:00   \n",
              "10 2022-04-26 06:39:45+00:00   \n",
              "11 2022-04-26 06:39:45+00:00   \n",
              "12 2022-04-26 06:39:45+00:00   \n",
              "13 2022-04-26 06:39:45+00:00   \n",
              "14 2022-04-26 06:39:45+00:00   \n",
              "15 2022-04-26 06:39:45+00:00   \n",
              "16 2022-04-26 06:39:45+00:00   \n",
              "17 2022-04-26 06:39:45+00:00   \n",
              "18 2022-04-26 06:39:45+00:00   \n",
              "19 2022-04-26 06:39:45+00:00   \n",
              "20 2022-04-26 06:39:45+00:00   \n",
              "21 2022-04-26 06:39:44+00:00   \n",
              "22 2022-04-26 06:39:44+00:00   \n",
              "23 2022-04-26 06:39:44+00:00   \n",
              "24 2022-04-26 06:39:44+00:00   \n",
              "25 2022-04-26 06:39:44+00:00   \n",
              "26 2022-04-26 06:39:44+00:00   \n",
              "27 2022-04-26 06:39:44+00:00   \n",
              "28 2022-04-26 06:39:44+00:00   \n",
              "29 2022-04-26 06:39:43+00:00   \n",
              "30 2022-04-26 06:39:43+00:00   \n",
              "31 2022-04-26 06:39:43+00:00   \n",
              "32 2022-04-26 06:39:43+00:00   \n",
              "33 2022-04-26 06:39:43+00:00   \n",
              "34 2022-04-26 06:39:43+00:00   \n",
              "35 2022-04-26 06:39:43+00:00   \n",
              "36 2022-04-26 06:39:43+00:00   \n",
              "37 2022-04-26 06:39:43+00:00   \n",
              "38 2022-04-26 06:39:43+00:00   \n",
              "39 2022-04-26 06:39:43+00:00   \n",
              "40 2022-04-26 06:39:43+00:00   \n",
              "41 2022-04-26 06:39:42+00:00   \n",
              "42 2022-04-26 06:39:42+00:00   \n",
              "43 2022-04-26 06:39:42+00:00   \n",
              "44 2022-04-26 06:39:42+00:00   \n",
              "45 2022-04-26 06:39:42+00:00   \n",
              "46 2022-04-26 06:39:42+00:00   \n",
              "47 2022-04-26 06:39:42+00:00   \n",
              "48 2022-04-26 06:39:42+00:00   \n",
              "49 2022-04-26 06:39:42+00:00   \n",
              "\n",
              "                                              content  \n",
              "0   @RohilChaturvedi We are still waiting for your...  \n",
              "1   This is the most comprehensive and factual rep...  \n",
              "2   @shosrnagar your work good but why are you men...  \n",
              "3                                   @Cricketracker Ki  \n",
              "4                                     @N_BN_Trader no  \n",
              "5   New Electric Car Coming to India, Will Launch ...  \n",
              "6   @arpiturfrnd To ensure that your Flipkart acco...  \n",
              "7   @anejaraaj @Mansi94893004 @Mahanaatma1 @nishac...  \n",
              "8       @Fitoor_E_Meraki Good afternoon🌹😊 Happy day 😊  \n",
              "9   @DrishtiVideos Either B or D.\\n' D ' in the se...  \n",
              "10  @samarrkf Not watched yet. Always some work ca...  \n",
              "11                  Screaming https://t.co/RQlQekDlC7  \n",
              "12  @akhilsarthak17 Ni game super...gamer Ani voor...  \n",
              "13  Dear @elonmusk ... heard that you bought #Twit...  \n",
              "14  @Cindyboiii Bernese mountain dog anta..image s...  \n",
              "15         @SugamSudrjaaa Teri baat Kyu maanu mein🙄😂😂  \n",
              "16  Teju liked 😭❣️\\n#TejasswiPrakash\\n#TejaTroops\\...  \n",
              "17                       @flamingo1712_ Veturi ARR 💯💉  \n",
              "18  #OralCancer affects the insides of the mouth a...  \n",
              "19                            https://t.co/XUZThZ2nbN  \n",
              "20        @PeterSweden7 #TrueIndology #bhardwajspeaks  \n",
              "21  SIM swapping is when a hacker convinces your c...  \n",
              "22  @Alpjivi @CTD1051 @_Ans_hu__\\n @_Setuku_2 @197...  \n",
              "23  @SushantBSinha Matlb aaj se 8:55 pe jeher dalo...  \n",
              "24  @anuraagmuskaan M F ka pure 7 puste...🤣 with t...  \n",
              "25               @cric_blog 🦆 https://t.co/ZXpvduyQXZ  \n",
              "26  The legendary banana incident 💀 https://t.co/Y...  \n",
              "27  Why should a man suffer having God within hims...  \n",
              "28                     @ShrirangaPV @Idlisambhar11 😝😂  \n",
              "29                जय बजरंगवली https://t.co/I5PVSPUqmT  \n",
              "30                              @hiyer I'll join you!  \n",
              "31  ➡️तीनों मृतकों में दो लोग एक परिवार के बताए गए...  \n",
              "32  I want to wear her initial on a chain round my...  \n",
              "33                           @iashishranjann Thanks 🤗  \n",
              "34  @BalaNandgaonkar @CMOMaharashtra @TV9Marathi @...  \n",
              "35                                 @sannibhism Waah 🔥  \n",
              "36     @AlluArjun \\n#Family 🖤 https://t.co/pW0xgBeJgd  \n",
              "37  @tanvishukla One can live double character for...  \n",
              "38  AAFT Online provides an unmatched space for yo...  \n",
              "39                           @MISbangtann #.roromochi  \n",
              "40  @ZenjinViperz @nearly @saiedabdalmoty @CCNistr...  \n",
              "41  ગાંધીનગરને મળી શકે છે પોલીસ કમિશનર\\nસોલા,સાબરમ...  \n",
              "42  #Budaun: मुजरिया थाना क्षेत्र में दर्दनाक सड़क...  \n",
              "43  @SunilYadavBJP @The_Pinakee Raat ko kutte bhow...  \n",
              "44                                    @PastellPeeps 👀  \n",
              "45  Figuring out next steps to turning your passio...  \n",
              "46  @ashishdave You are not even adding Like and S...  \n",
              "47  @satyakumar_y Central govt need to take decisi...  \n",
              "48  @Iyervval Why does this cartoon remind me of V...  \n",
              "49  @eurydicelives Such a low bar for women to be ...  "
            ],
            "text/html": [
              "\n",
              "  <div id=\"df-1330740b-904f-4905-abaf-27aae4280b5c\">\n",
              "    <div class=\"colab-df-container\">\n",
              "      <div>\n",
              "<style scoped>\n",
              "    .dataframe tbody tr th:only-of-type {\n",
              "        vertical-align: middle;\n",
              "    }\n",
              "\n",
              "    .dataframe tbody tr th {\n",
              "        vertical-align: top;\n",
              "    }\n",
              "\n",
              "    .dataframe thead th {\n",
              "        text-align: right;\n",
              "    }\n",
              "</style>\n",
              "<table border=\"1\" class=\"dataframe\">\n",
              "  <thead>\n",
              "    <tr style=\"text-align: right;\">\n",
              "      <th></th>\n",
              "      <th>date</th>\n",
              "      <th>content</th>\n",
              "    </tr>\n",
              "  </thead>\n",
              "  <tbody>\n",
              "    <tr>\n",
              "      <th>0</th>\n",
              "      <td>2022-04-26 06:39:46+00:00</td>\n",
              "      <td>@RohilChaturvedi We are still waiting for your...</td>\n",
              "    </tr>\n",
              "    <tr>\n",
              "      <th>1</th>\n",
              "      <td>2022-04-26 06:39:46+00:00</td>\n",
              "      <td>This is the most comprehensive and factual rep...</td>\n",
              "    </tr>\n",
              "    <tr>\n",
              "      <th>2</th>\n",
              "      <td>2022-04-26 06:39:46+00:00</td>\n",
              "      <td>@shosrnagar your work good but why are you men...</td>\n",
              "    </tr>\n",
              "    <tr>\n",
              "      <th>3</th>\n",
              "      <td>2022-04-26 06:39:46+00:00</td>\n",
              "      <td>@Cricketracker Ki</td>\n",
              "    </tr>\n",
              "    <tr>\n",
              "      <th>4</th>\n",
              "      <td>2022-04-26 06:39:46+00:00</td>\n",
              "      <td>@N_BN_Trader no</td>\n",
              "    </tr>\n",
              "    <tr>\n",
              "      <th>5</th>\n",
              "      <td>2022-04-26 06:39:46+00:00</td>\n",
              "      <td>New Electric Car Coming to India, Will Launch ...</td>\n",
              "    </tr>\n",
              "    <tr>\n",
              "      <th>6</th>\n",
              "      <td>2022-04-26 06:39:46+00:00</td>\n",
              "      <td>@arpiturfrnd To ensure that your Flipkart acco...</td>\n",
              "    </tr>\n",
              "    <tr>\n",
              "      <th>7</th>\n",
              "      <td>2022-04-26 06:39:45+00:00</td>\n",
              "      <td>@anejaraaj @Mansi94893004 @Mahanaatma1 @nishac...</td>\n",
              "    </tr>\n",
              "    <tr>\n",
              "      <th>8</th>\n",
              "      <td>2022-04-26 06:39:45+00:00</td>\n",
              "      <td>@Fitoor_E_Meraki Good afternoon🌹😊 Happy day 😊</td>\n",
              "    </tr>\n",
              "    <tr>\n",
              "      <th>9</th>\n",
              "      <td>2022-04-26 06:39:45+00:00</td>\n",
              "      <td>@DrishtiVideos Either B or D.\\n' D ' in the se...</td>\n",
              "    </tr>\n",
              "    <tr>\n",
              "      <th>10</th>\n",
              "      <td>2022-04-26 06:39:45+00:00</td>\n",
              "      <td>@samarrkf Not watched yet. Always some work ca...</td>\n",
              "    </tr>\n",
              "    <tr>\n",
              "      <th>11</th>\n",
              "      <td>2022-04-26 06:39:45+00:00</td>\n",
              "      <td>Screaming https://t.co/RQlQekDlC7</td>\n",
              "    </tr>\n",
              "    <tr>\n",
              "      <th>12</th>\n",
              "      <td>2022-04-26 06:39:45+00:00</td>\n",
              "      <td>@akhilsarthak17 Ni game super...gamer Ani voor...</td>\n",
              "    </tr>\n",
              "    <tr>\n",
              "      <th>13</th>\n",
              "      <td>2022-04-26 06:39:45+00:00</td>\n",
              "      <td>Dear @elonmusk ... heard that you bought #Twit...</td>\n",
              "    </tr>\n",
              "    <tr>\n",
              "      <th>14</th>\n",
              "      <td>2022-04-26 06:39:45+00:00</td>\n",
              "      <td>@Cindyboiii Bernese mountain dog anta..image s...</td>\n",
              "    </tr>\n",
              "    <tr>\n",
              "      <th>15</th>\n",
              "      <td>2022-04-26 06:39:45+00:00</td>\n",
              "      <td>@SugamSudrjaaa Teri baat Kyu maanu mein🙄😂😂</td>\n",
              "    </tr>\n",
              "    <tr>\n",
              "      <th>16</th>\n",
              "      <td>2022-04-26 06:39:45+00:00</td>\n",
              "      <td>Teju liked 😭❣️\\n#TejasswiPrakash\\n#TejaTroops\\...</td>\n",
              "    </tr>\n",
              "    <tr>\n",
              "      <th>17</th>\n",
              "      <td>2022-04-26 06:39:45+00:00</td>\n",
              "      <td>@flamingo1712_ Veturi ARR 💯💉</td>\n",
              "    </tr>\n",
              "    <tr>\n",
              "      <th>18</th>\n",
              "      <td>2022-04-26 06:39:45+00:00</td>\n",
              "      <td>#OralCancer affects the insides of the mouth a...</td>\n",
              "    </tr>\n",
              "    <tr>\n",
              "      <th>19</th>\n",
              "      <td>2022-04-26 06:39:45+00:00</td>\n",
              "      <td>https://t.co/XUZThZ2nbN</td>\n",
              "    </tr>\n",
              "    <tr>\n",
              "      <th>20</th>\n",
              "      <td>2022-04-26 06:39:45+00:00</td>\n",
              "      <td>@PeterSweden7 #TrueIndology #bhardwajspeaks</td>\n",
              "    </tr>\n",
              "    <tr>\n",
              "      <th>21</th>\n",
              "      <td>2022-04-26 06:39:44+00:00</td>\n",
              "      <td>SIM swapping is when a hacker convinces your c...</td>\n",
              "    </tr>\n",
              "    <tr>\n",
              "      <th>22</th>\n",
              "      <td>2022-04-26 06:39:44+00:00</td>\n",
              "      <td>@Alpjivi @CTD1051 @_Ans_hu__\\n @_Setuku_2 @197...</td>\n",
              "    </tr>\n",
              "    <tr>\n",
              "      <th>23</th>\n",
              "      <td>2022-04-26 06:39:44+00:00</td>\n",
              "      <td>@SushantBSinha Matlb aaj se 8:55 pe jeher dalo...</td>\n",
              "    </tr>\n",
              "    <tr>\n",
              "      <th>24</th>\n",
              "      <td>2022-04-26 06:39:44+00:00</td>\n",
              "      <td>@anuraagmuskaan M F ka pure 7 puste...🤣 with t...</td>\n",
              "    </tr>\n",
              "    <tr>\n",
              "      <th>25</th>\n",
              "      <td>2022-04-26 06:39:44+00:00</td>\n",
              "      <td>@cric_blog 🦆 https://t.co/ZXpvduyQXZ</td>\n",
              "    </tr>\n",
              "    <tr>\n",
              "      <th>26</th>\n",
              "      <td>2022-04-26 06:39:44+00:00</td>\n",
              "      <td>The legendary banana incident 💀 https://t.co/Y...</td>\n",
              "    </tr>\n",
              "    <tr>\n",
              "      <th>27</th>\n",
              "      <td>2022-04-26 06:39:44+00:00</td>\n",
              "      <td>Why should a man suffer having God within hims...</td>\n",
              "    </tr>\n",
              "    <tr>\n",
              "      <th>28</th>\n",
              "      <td>2022-04-26 06:39:44+00:00</td>\n",
              "      <td>@ShrirangaPV @Idlisambhar11 😝😂</td>\n",
              "    </tr>\n",
              "    <tr>\n",
              "      <th>29</th>\n",
              "      <td>2022-04-26 06:39:43+00:00</td>\n",
              "      <td>जय बजरंगवली https://t.co/I5PVSPUqmT</td>\n",
              "    </tr>\n",
              "    <tr>\n",
              "      <th>30</th>\n",
              "      <td>2022-04-26 06:39:43+00:00</td>\n",
              "      <td>@hiyer I'll join you!</td>\n",
              "    </tr>\n",
              "    <tr>\n",
              "      <th>31</th>\n",
              "      <td>2022-04-26 06:39:43+00:00</td>\n",
              "      <td>➡️तीनों मृतकों में दो लोग एक परिवार के बताए गए...</td>\n",
              "    </tr>\n",
              "    <tr>\n",
              "      <th>32</th>\n",
              "      <td>2022-04-26 06:39:43+00:00</td>\n",
              "      <td>I want to wear her initial on a chain round my...</td>\n",
              "    </tr>\n",
              "    <tr>\n",
              "      <th>33</th>\n",
              "      <td>2022-04-26 06:39:43+00:00</td>\n",
              "      <td>@iashishranjann Thanks 🤗</td>\n",
              "    </tr>\n",
              "    <tr>\n",
              "      <th>34</th>\n",
              "      <td>2022-04-26 06:39:43+00:00</td>\n",
              "      <td>@BalaNandgaonkar @CMOMaharashtra @TV9Marathi @...</td>\n",
              "    </tr>\n",
              "    <tr>\n",
              "      <th>35</th>\n",
              "      <td>2022-04-26 06:39:43+00:00</td>\n",
              "      <td>@sannibhism Waah 🔥</td>\n",
              "    </tr>\n",
              "    <tr>\n",
              "      <th>36</th>\n",
              "      <td>2022-04-26 06:39:43+00:00</td>\n",
              "      <td>@AlluArjun \\n#Family 🖤 https://t.co/pW0xgBeJgd</td>\n",
              "    </tr>\n",
              "    <tr>\n",
              "      <th>37</th>\n",
              "      <td>2022-04-26 06:39:43+00:00</td>\n",
              "      <td>@tanvishukla One can live double character for...</td>\n",
              "    </tr>\n",
              "    <tr>\n",
              "      <th>38</th>\n",
              "      <td>2022-04-26 06:39:43+00:00</td>\n",
              "      <td>AAFT Online provides an unmatched space for yo...</td>\n",
              "    </tr>\n",
              "    <tr>\n",
              "      <th>39</th>\n",
              "      <td>2022-04-26 06:39:43+00:00</td>\n",
              "      <td>@MISbangtann #.roromochi</td>\n",
              "    </tr>\n",
              "    <tr>\n",
              "      <th>40</th>\n",
              "      <td>2022-04-26 06:39:43+00:00</td>\n",
              "      <td>@ZenjinViperz @nearly @saiedabdalmoty @CCNistr...</td>\n",
              "    </tr>\n",
              "    <tr>\n",
              "      <th>41</th>\n",
              "      <td>2022-04-26 06:39:42+00:00</td>\n",
              "      <td>ગાંધીનગરને મળી શકે છે પોલીસ કમિશનર\\nસોલા,સાબરમ...</td>\n",
              "    </tr>\n",
              "    <tr>\n",
              "      <th>42</th>\n",
              "      <td>2022-04-26 06:39:42+00:00</td>\n",
              "      <td>#Budaun: मुजरिया थाना क्षेत्र में दर्दनाक सड़क...</td>\n",
              "    </tr>\n",
              "    <tr>\n",
              "      <th>43</th>\n",
              "      <td>2022-04-26 06:39:42+00:00</td>\n",
              "      <td>@SunilYadavBJP @The_Pinakee Raat ko kutte bhow...</td>\n",
              "    </tr>\n",
              "    <tr>\n",
              "      <th>44</th>\n",
              "      <td>2022-04-26 06:39:42+00:00</td>\n",
              "      <td>@PastellPeeps 👀</td>\n",
              "    </tr>\n",
              "    <tr>\n",
              "      <th>45</th>\n",
              "      <td>2022-04-26 06:39:42+00:00</td>\n",
              "      <td>Figuring out next steps to turning your passio...</td>\n",
              "    </tr>\n",
              "    <tr>\n",
              "      <th>46</th>\n",
              "      <td>2022-04-26 06:39:42+00:00</td>\n",
              "      <td>@ashishdave You are not even adding Like and S...</td>\n",
              "    </tr>\n",
              "    <tr>\n",
              "      <th>47</th>\n",
              "      <td>2022-04-26 06:39:42+00:00</td>\n",
              "      <td>@satyakumar_y Central govt need to take decisi...</td>\n",
              "    </tr>\n",
              "    <tr>\n",
              "      <th>48</th>\n",
              "      <td>2022-04-26 06:39:42+00:00</td>\n",
              "      <td>@Iyervval Why does this cartoon remind me of V...</td>\n",
              "    </tr>\n",
              "    <tr>\n",
              "      <th>49</th>\n",
              "      <td>2022-04-26 06:39:42+00:00</td>\n",
              "      <td>@eurydicelives Such a low bar for women to be ...</td>\n",
              "    </tr>\n",
              "  </tbody>\n",
              "</table>\n",
              "</div>\n",
              "      <button class=\"colab-df-convert\" onclick=\"convertToInteractive('df-1330740b-904f-4905-abaf-27aae4280b5c')\"\n",
              "              title=\"Convert this dataframe to an interactive table.\"\n",
              "              style=\"display:none;\">\n",
              "        \n",
              "  <svg xmlns=\"http://www.w3.org/2000/svg\" height=\"24px\"viewBox=\"0 0 24 24\"\n",
              "       width=\"24px\">\n",
              "    <path d=\"M0 0h24v24H0V0z\" fill=\"none\"/>\n",
              "    <path d=\"M18.56 5.44l.94 2.06.94-2.06 2.06-.94-2.06-.94-.94-2.06-.94 2.06-2.06.94zm-11 1L8.5 8.5l.94-2.06 2.06-.94-2.06-.94L8.5 2.5l-.94 2.06-2.06.94zm10 10l.94 2.06.94-2.06 2.06-.94-2.06-.94-.94-2.06-.94 2.06-2.06.94z\"/><path d=\"M17.41 7.96l-1.37-1.37c-.4-.4-.92-.59-1.43-.59-.52 0-1.04.2-1.43.59L10.3 9.45l-7.72 7.72c-.78.78-.78 2.05 0 2.83L4 21.41c.39.39.9.59 1.41.59.51 0 1.02-.2 1.41-.59l7.78-7.78 2.81-2.81c.8-.78.8-2.07 0-2.86zM5.41 20L4 18.59l7.72-7.72 1.47 1.35L5.41 20z\"/>\n",
              "  </svg>\n",
              "      </button>\n",
              "      \n",
              "  <style>\n",
              "    .colab-df-container {\n",
              "      display:flex;\n",
              "      flex-wrap:wrap;\n",
              "      gap: 12px;\n",
              "    }\n",
              "\n",
              "    .colab-df-convert {\n",
              "      background-color: #E8F0FE;\n",
              "      border: none;\n",
              "      border-radius: 50%;\n",
              "      cursor: pointer;\n",
              "      display: none;\n",
              "      fill: #1967D2;\n",
              "      height: 32px;\n",
              "      padding: 0 0 0 0;\n",
              "      width: 32px;\n",
              "    }\n",
              "\n",
              "    .colab-df-convert:hover {\n",
              "      background-color: #E2EBFA;\n",
              "      box-shadow: 0px 1px 2px rgba(60, 64, 67, 0.3), 0px 1px 3px 1px rgba(60, 64, 67, 0.15);\n",
              "      fill: #174EA6;\n",
              "    }\n",
              "\n",
              "    [theme=dark] .colab-df-convert {\n",
              "      background-color: #3B4455;\n",
              "      fill: #D2E3FC;\n",
              "    }\n",
              "\n",
              "    [theme=dark] .colab-df-convert:hover {\n",
              "      background-color: #434B5C;\n",
              "      box-shadow: 0px 1px 3px 1px rgba(0, 0, 0, 0.15);\n",
              "      filter: drop-shadow(0px 1px 2px rgba(0, 0, 0, 0.3));\n",
              "      fill: #FFFFFF;\n",
              "    }\n",
              "  </style>\n",
              "\n",
              "      <script>\n",
              "        const buttonEl =\n",
              "          document.querySelector('#df-1330740b-904f-4905-abaf-27aae4280b5c button.colab-df-convert');\n",
              "        buttonEl.style.display =\n",
              "          google.colab.kernel.accessAllowed ? 'block' : 'none';\n",
              "\n",
              "        async function convertToInteractive(key) {\n",
              "          const element = document.querySelector('#df-1330740b-904f-4905-abaf-27aae4280b5c');\n",
              "          const dataTable =\n",
              "            await google.colab.kernel.invokeFunction('convertToInteractive',\n",
              "                                                     [key], {});\n",
              "          if (!dataTable) return;\n",
              "\n",
              "          const docLinkHtml = 'Like what you see? Visit the ' +\n",
              "            '<a target=\"_blank\" href=https://colab.research.google.com/notebooks/data_table.ipynb>data table notebook</a>'\n",
              "            + ' to learn more about interactive tables.';\n",
              "          element.innerHTML = '';\n",
              "          dataTable['output_type'] = 'display_data';\n",
              "          await google.colab.output.renderOutput(dataTable, element);\n",
              "          const docLink = document.createElement('div');\n",
              "          docLink.innerHTML = docLinkHtml;\n",
              "          element.appendChild(docLink);\n",
              "        }\n",
              "      </script>\n",
              "    </div>\n",
              "  </div>\n",
              "  "
            ]
          },
          "metadata": {},
          "execution_count": 7
        }
      ]
    },
    {
      "cell_type": "code",
      "source": [
        "df_coord.to_csv('t3_data.csv')"
      ],
      "metadata": {
        "id": "vpcp1oe4F5Tp"
      },
      "execution_count": null,
      "outputs": []
    },
    {
      "cell_type": "code",
      "source": [
        "for index, row in df_coord.iterrows():\n",
        "    content = row[\"content\"]\n",
        "    content = demoji.replace(content,repl='')\n",
        "    df_coord[\"content\"][index] = content"
      ],
      "metadata": {
        "colab": {
          "base_uri": "https://localhost:8080/"
        },
        "id": "5xXTtXqOF7jG",
        "outputId": "2c19c9dd-9c04-4c49-9e36-e19d706d1275"
      },
      "execution_count": null,
      "outputs": [
        {
          "output_type": "stream",
          "name": "stderr",
          "text": [
            "/usr/local/lib/python3.7/dist-packages/ipykernel_launcher.py:4: SettingWithCopyWarning: \n",
            "A value is trying to be set on a copy of a slice from a DataFrame\n",
            "\n",
            "See the caveats in the documentation: https://pandas.pydata.org/pandas-docs/stable/user_guide/indexing.html#returning-a-view-versus-a-copy\n",
            "  after removing the cwd from sys.path.\n"
          ]
        }
      ]
    },
    {
      "cell_type": "code",
      "source": [
        "df_coord"
      ],
      "metadata": {
        "colab": {
          "base_uri": "https://localhost:8080/",
          "height": 1000
        },
        "id": "_hXWTh5wF9Hv",
        "outputId": "f6a8422e-2ee8-46e0-e512-241ee06de2e0"
      },
      "execution_count": null,
      "outputs": [
        {
          "output_type": "execute_result",
          "data": {
            "text/plain": [
              "                        date  \\\n",
              "0  2022-04-26 06:39:46+00:00   \n",
              "1  2022-04-26 06:39:46+00:00   \n",
              "2  2022-04-26 06:39:46+00:00   \n",
              "3  2022-04-26 06:39:46+00:00   \n",
              "4  2022-04-26 06:39:46+00:00   \n",
              "5  2022-04-26 06:39:46+00:00   \n",
              "6  2022-04-26 06:39:46+00:00   \n",
              "7  2022-04-26 06:39:45+00:00   \n",
              "8  2022-04-26 06:39:45+00:00   \n",
              "9  2022-04-26 06:39:45+00:00   \n",
              "10 2022-04-26 06:39:45+00:00   \n",
              "11 2022-04-26 06:39:45+00:00   \n",
              "12 2022-04-26 06:39:45+00:00   \n",
              "13 2022-04-26 06:39:45+00:00   \n",
              "14 2022-04-26 06:39:45+00:00   \n",
              "15 2022-04-26 06:39:45+00:00   \n",
              "16 2022-04-26 06:39:45+00:00   \n",
              "17 2022-04-26 06:39:45+00:00   \n",
              "18 2022-04-26 06:39:45+00:00   \n",
              "19 2022-04-26 06:39:45+00:00   \n",
              "20 2022-04-26 06:39:45+00:00   \n",
              "21 2022-04-26 06:39:44+00:00   \n",
              "22 2022-04-26 06:39:44+00:00   \n",
              "23 2022-04-26 06:39:44+00:00   \n",
              "24 2022-04-26 06:39:44+00:00   \n",
              "25 2022-04-26 06:39:44+00:00   \n",
              "26 2022-04-26 06:39:44+00:00   \n",
              "27 2022-04-26 06:39:44+00:00   \n",
              "28 2022-04-26 06:39:44+00:00   \n",
              "29 2022-04-26 06:39:43+00:00   \n",
              "30 2022-04-26 06:39:43+00:00   \n",
              "31 2022-04-26 06:39:43+00:00   \n",
              "32 2022-04-26 06:39:43+00:00   \n",
              "33 2022-04-26 06:39:43+00:00   \n",
              "34 2022-04-26 06:39:43+00:00   \n",
              "35 2022-04-26 06:39:43+00:00   \n",
              "36 2022-04-26 06:39:43+00:00   \n",
              "37 2022-04-26 06:39:43+00:00   \n",
              "38 2022-04-26 06:39:43+00:00   \n",
              "39 2022-04-26 06:39:43+00:00   \n",
              "40 2022-04-26 06:39:43+00:00   \n",
              "41 2022-04-26 06:39:42+00:00   \n",
              "42 2022-04-26 06:39:42+00:00   \n",
              "43 2022-04-26 06:39:42+00:00   \n",
              "44 2022-04-26 06:39:42+00:00   \n",
              "45 2022-04-26 06:39:42+00:00   \n",
              "46 2022-04-26 06:39:42+00:00   \n",
              "47 2022-04-26 06:39:42+00:00   \n",
              "48 2022-04-26 06:39:42+00:00   \n",
              "49 2022-04-26 06:39:42+00:00   \n",
              "\n",
              "                                              content  \n",
              "0   @RohilChaturvedi We are still waiting for your...  \n",
              "1   This is the most comprehensive and factual rep...  \n",
              "2   @shosrnagar your work good but why are you men...  \n",
              "3                                   @Cricketracker Ki  \n",
              "4                                     @N_BN_Trader no  \n",
              "5   New Electric Car Coming to India, Will Launch ...  \n",
              "6   @arpiturfrnd To ensure that your Flipkart acco...  \n",
              "7   @anejaraaj @Mansi94893004 @Mahanaatma1 @nishac...  \n",
              "8          @Fitoor_E_Meraki Good afternoon Happy day   \n",
              "9   @DrishtiVideos Either B or D.\\n' D ' in the se...  \n",
              "10  @samarrkf Not watched yet. Always some work ca...  \n",
              "11                  Screaming https://t.co/RQlQekDlC7  \n",
              "12  @akhilsarthak17 Ni game super...gamer Ani voor...  \n",
              "13  Dear @elonmusk ... heard that you bought #Twit...  \n",
              "14  @Cindyboiii Bernese mountain dog anta..image s...  \n",
              "15            @SugamSudrjaaa Teri baat Kyu maanu mein  \n",
              "16  Teju liked \\n#TejasswiPrakash\\n#TejaTroops\\n#T...  \n",
              "17                         @flamingo1712_ Veturi ARR   \n",
              "18  #OralCancer affects the insides of the mouth a...  \n",
              "19                            https://t.co/XUZThZ2nbN  \n",
              "20        @PeterSweden7 #TrueIndology #bhardwajspeaks  \n",
              "21  SIM swapping is when a hacker convinces your c...  \n",
              "22  @Alpjivi @CTD1051 @_Ans_hu__\\n @_Setuku_2 @197...  \n",
              "23  @SushantBSinha Matlb aaj se 8:55 pe jeher dalo...  \n",
              "24  @anuraagmuskaan M F ka pure 7 puste... with th...  \n",
              "25                @cric_blog  https://t.co/ZXpvduyQXZ  \n",
              "26  The legendary banana incident  https://t.co/YV...  \n",
              "27  Why should a man suffer having God within hims...  \n",
              "28                       @ShrirangaPV @Idlisambhar11   \n",
              "29                जय बजरंगवली https://t.co/I5PVSPUqmT  \n",
              "30                              @hiyer I'll join you!  \n",
              "31  तीनों मृतकों में दो लोग एक परिवार के बताए गए\\n...  \n",
              "32  I want to wear her initial on a chain round my...  \n",
              "33                            @iashishranjann Thanks   \n",
              "34  @BalaNandgaonkar @CMOMaharashtra @TV9Marathi @...  \n",
              "35                                  @sannibhism Waah   \n",
              "36      @AlluArjun \\n#Family  https://t.co/pW0xgBeJgd  \n",
              "37  @tanvishukla One can live double character for...  \n",
              "38  AAFT Online provides an unmatched space for yo...  \n",
              "39                           @MISbangtann #.roromochi  \n",
              "40  @ZenjinViperz @nearly @saiedabdalmoty @CCNistr...  \n",
              "41  ગાંધીનગરને મળી શકે છે પોલીસ કમિશનર\\nસોલા,સાબરમ...  \n",
              "42  #Budaun: मुजरिया थाना क्षेत्र में दर्दनाक सड़क...  \n",
              "43  @SunilYadavBJP @The_Pinakee Raat ko kutte bhow...  \n",
              "44                                     @PastellPeeps   \n",
              "45  Figuring out next steps to turning your passio...  \n",
              "46  @ashishdave You are not even adding Like and S...  \n",
              "47  @satyakumar_y Central govt need to take decisi...  \n",
              "48  @Iyervval Why does this cartoon remind me of V...  \n",
              "49  @eurydicelives Such a low bar for women to be ...  "
            ],
            "text/html": [
              "\n",
              "  <div id=\"df-2b63e15a-e930-4801-855c-26f58b6d8f40\">\n",
              "    <div class=\"colab-df-container\">\n",
              "      <div>\n",
              "<style scoped>\n",
              "    .dataframe tbody tr th:only-of-type {\n",
              "        vertical-align: middle;\n",
              "    }\n",
              "\n",
              "    .dataframe tbody tr th {\n",
              "        vertical-align: top;\n",
              "    }\n",
              "\n",
              "    .dataframe thead th {\n",
              "        text-align: right;\n",
              "    }\n",
              "</style>\n",
              "<table border=\"1\" class=\"dataframe\">\n",
              "  <thead>\n",
              "    <tr style=\"text-align: right;\">\n",
              "      <th></th>\n",
              "      <th>date</th>\n",
              "      <th>content</th>\n",
              "    </tr>\n",
              "  </thead>\n",
              "  <tbody>\n",
              "    <tr>\n",
              "      <th>0</th>\n",
              "      <td>2022-04-26 06:39:46+00:00</td>\n",
              "      <td>@RohilChaturvedi We are still waiting for your...</td>\n",
              "    </tr>\n",
              "    <tr>\n",
              "      <th>1</th>\n",
              "      <td>2022-04-26 06:39:46+00:00</td>\n",
              "      <td>This is the most comprehensive and factual rep...</td>\n",
              "    </tr>\n",
              "    <tr>\n",
              "      <th>2</th>\n",
              "      <td>2022-04-26 06:39:46+00:00</td>\n",
              "      <td>@shosrnagar your work good but why are you men...</td>\n",
              "    </tr>\n",
              "    <tr>\n",
              "      <th>3</th>\n",
              "      <td>2022-04-26 06:39:46+00:00</td>\n",
              "      <td>@Cricketracker Ki</td>\n",
              "    </tr>\n",
              "    <tr>\n",
              "      <th>4</th>\n",
              "      <td>2022-04-26 06:39:46+00:00</td>\n",
              "      <td>@N_BN_Trader no</td>\n",
              "    </tr>\n",
              "    <tr>\n",
              "      <th>5</th>\n",
              "      <td>2022-04-26 06:39:46+00:00</td>\n",
              "      <td>New Electric Car Coming to India, Will Launch ...</td>\n",
              "    </tr>\n",
              "    <tr>\n",
              "      <th>6</th>\n",
              "      <td>2022-04-26 06:39:46+00:00</td>\n",
              "      <td>@arpiturfrnd To ensure that your Flipkart acco...</td>\n",
              "    </tr>\n",
              "    <tr>\n",
              "      <th>7</th>\n",
              "      <td>2022-04-26 06:39:45+00:00</td>\n",
              "      <td>@anejaraaj @Mansi94893004 @Mahanaatma1 @nishac...</td>\n",
              "    </tr>\n",
              "    <tr>\n",
              "      <th>8</th>\n",
              "      <td>2022-04-26 06:39:45+00:00</td>\n",
              "      <td>@Fitoor_E_Meraki Good afternoon Happy day</td>\n",
              "    </tr>\n",
              "    <tr>\n",
              "      <th>9</th>\n",
              "      <td>2022-04-26 06:39:45+00:00</td>\n",
              "      <td>@DrishtiVideos Either B or D.\\n' D ' in the se...</td>\n",
              "    </tr>\n",
              "    <tr>\n",
              "      <th>10</th>\n",
              "      <td>2022-04-26 06:39:45+00:00</td>\n",
              "      <td>@samarrkf Not watched yet. Always some work ca...</td>\n",
              "    </tr>\n",
              "    <tr>\n",
              "      <th>11</th>\n",
              "      <td>2022-04-26 06:39:45+00:00</td>\n",
              "      <td>Screaming https://t.co/RQlQekDlC7</td>\n",
              "    </tr>\n",
              "    <tr>\n",
              "      <th>12</th>\n",
              "      <td>2022-04-26 06:39:45+00:00</td>\n",
              "      <td>@akhilsarthak17 Ni game super...gamer Ani voor...</td>\n",
              "    </tr>\n",
              "    <tr>\n",
              "      <th>13</th>\n",
              "      <td>2022-04-26 06:39:45+00:00</td>\n",
              "      <td>Dear @elonmusk ... heard that you bought #Twit...</td>\n",
              "    </tr>\n",
              "    <tr>\n",
              "      <th>14</th>\n",
              "      <td>2022-04-26 06:39:45+00:00</td>\n",
              "      <td>@Cindyboiii Bernese mountain dog anta..image s...</td>\n",
              "    </tr>\n",
              "    <tr>\n",
              "      <th>15</th>\n",
              "      <td>2022-04-26 06:39:45+00:00</td>\n",
              "      <td>@SugamSudrjaaa Teri baat Kyu maanu mein</td>\n",
              "    </tr>\n",
              "    <tr>\n",
              "      <th>16</th>\n",
              "      <td>2022-04-26 06:39:45+00:00</td>\n",
              "      <td>Teju liked \\n#TejasswiPrakash\\n#TejaTroops\\n#T...</td>\n",
              "    </tr>\n",
              "    <tr>\n",
              "      <th>17</th>\n",
              "      <td>2022-04-26 06:39:45+00:00</td>\n",
              "      <td>@flamingo1712_ Veturi ARR</td>\n",
              "    </tr>\n",
              "    <tr>\n",
              "      <th>18</th>\n",
              "      <td>2022-04-26 06:39:45+00:00</td>\n",
              "      <td>#OralCancer affects the insides of the mouth a...</td>\n",
              "    </tr>\n",
              "    <tr>\n",
              "      <th>19</th>\n",
              "      <td>2022-04-26 06:39:45+00:00</td>\n",
              "      <td>https://t.co/XUZThZ2nbN</td>\n",
              "    </tr>\n",
              "    <tr>\n",
              "      <th>20</th>\n",
              "      <td>2022-04-26 06:39:45+00:00</td>\n",
              "      <td>@PeterSweden7 #TrueIndology #bhardwajspeaks</td>\n",
              "    </tr>\n",
              "    <tr>\n",
              "      <th>21</th>\n",
              "      <td>2022-04-26 06:39:44+00:00</td>\n",
              "      <td>SIM swapping is when a hacker convinces your c...</td>\n",
              "    </tr>\n",
              "    <tr>\n",
              "      <th>22</th>\n",
              "      <td>2022-04-26 06:39:44+00:00</td>\n",
              "      <td>@Alpjivi @CTD1051 @_Ans_hu__\\n @_Setuku_2 @197...</td>\n",
              "    </tr>\n",
              "    <tr>\n",
              "      <th>23</th>\n",
              "      <td>2022-04-26 06:39:44+00:00</td>\n",
              "      <td>@SushantBSinha Matlb aaj se 8:55 pe jeher dalo...</td>\n",
              "    </tr>\n",
              "    <tr>\n",
              "      <th>24</th>\n",
              "      <td>2022-04-26 06:39:44+00:00</td>\n",
              "      <td>@anuraagmuskaan M F ka pure 7 puste... with th...</td>\n",
              "    </tr>\n",
              "    <tr>\n",
              "      <th>25</th>\n",
              "      <td>2022-04-26 06:39:44+00:00</td>\n",
              "      <td>@cric_blog  https://t.co/ZXpvduyQXZ</td>\n",
              "    </tr>\n",
              "    <tr>\n",
              "      <th>26</th>\n",
              "      <td>2022-04-26 06:39:44+00:00</td>\n",
              "      <td>The legendary banana incident  https://t.co/YV...</td>\n",
              "    </tr>\n",
              "    <tr>\n",
              "      <th>27</th>\n",
              "      <td>2022-04-26 06:39:44+00:00</td>\n",
              "      <td>Why should a man suffer having God within hims...</td>\n",
              "    </tr>\n",
              "    <tr>\n",
              "      <th>28</th>\n",
              "      <td>2022-04-26 06:39:44+00:00</td>\n",
              "      <td>@ShrirangaPV @Idlisambhar11</td>\n",
              "    </tr>\n",
              "    <tr>\n",
              "      <th>29</th>\n",
              "      <td>2022-04-26 06:39:43+00:00</td>\n",
              "      <td>जय बजरंगवली https://t.co/I5PVSPUqmT</td>\n",
              "    </tr>\n",
              "    <tr>\n",
              "      <th>30</th>\n",
              "      <td>2022-04-26 06:39:43+00:00</td>\n",
              "      <td>@hiyer I'll join you!</td>\n",
              "    </tr>\n",
              "    <tr>\n",
              "      <th>31</th>\n",
              "      <td>2022-04-26 06:39:43+00:00</td>\n",
              "      <td>तीनों मृतकों में दो लोग एक परिवार के बताए गए\\n...</td>\n",
              "    </tr>\n",
              "    <tr>\n",
              "      <th>32</th>\n",
              "      <td>2022-04-26 06:39:43+00:00</td>\n",
              "      <td>I want to wear her initial on a chain round my...</td>\n",
              "    </tr>\n",
              "    <tr>\n",
              "      <th>33</th>\n",
              "      <td>2022-04-26 06:39:43+00:00</td>\n",
              "      <td>@iashishranjann Thanks</td>\n",
              "    </tr>\n",
              "    <tr>\n",
              "      <th>34</th>\n",
              "      <td>2022-04-26 06:39:43+00:00</td>\n",
              "      <td>@BalaNandgaonkar @CMOMaharashtra @TV9Marathi @...</td>\n",
              "    </tr>\n",
              "    <tr>\n",
              "      <th>35</th>\n",
              "      <td>2022-04-26 06:39:43+00:00</td>\n",
              "      <td>@sannibhism Waah</td>\n",
              "    </tr>\n",
              "    <tr>\n",
              "      <th>36</th>\n",
              "      <td>2022-04-26 06:39:43+00:00</td>\n",
              "      <td>@AlluArjun \\n#Family  https://t.co/pW0xgBeJgd</td>\n",
              "    </tr>\n",
              "    <tr>\n",
              "      <th>37</th>\n",
              "      <td>2022-04-26 06:39:43+00:00</td>\n",
              "      <td>@tanvishukla One can live double character for...</td>\n",
              "    </tr>\n",
              "    <tr>\n",
              "      <th>38</th>\n",
              "      <td>2022-04-26 06:39:43+00:00</td>\n",
              "      <td>AAFT Online provides an unmatched space for yo...</td>\n",
              "    </tr>\n",
              "    <tr>\n",
              "      <th>39</th>\n",
              "      <td>2022-04-26 06:39:43+00:00</td>\n",
              "      <td>@MISbangtann #.roromochi</td>\n",
              "    </tr>\n",
              "    <tr>\n",
              "      <th>40</th>\n",
              "      <td>2022-04-26 06:39:43+00:00</td>\n",
              "      <td>@ZenjinViperz @nearly @saiedabdalmoty @CCNistr...</td>\n",
              "    </tr>\n",
              "    <tr>\n",
              "      <th>41</th>\n",
              "      <td>2022-04-26 06:39:42+00:00</td>\n",
              "      <td>ગાંધીનગરને મળી શકે છે પોલીસ કમિશનર\\nસોલા,સાબરમ...</td>\n",
              "    </tr>\n",
              "    <tr>\n",
              "      <th>42</th>\n",
              "      <td>2022-04-26 06:39:42+00:00</td>\n",
              "      <td>#Budaun: मुजरिया थाना क्षेत्र में दर्दनाक सड़क...</td>\n",
              "    </tr>\n",
              "    <tr>\n",
              "      <th>43</th>\n",
              "      <td>2022-04-26 06:39:42+00:00</td>\n",
              "      <td>@SunilYadavBJP @The_Pinakee Raat ko kutte bhow...</td>\n",
              "    </tr>\n",
              "    <tr>\n",
              "      <th>44</th>\n",
              "      <td>2022-04-26 06:39:42+00:00</td>\n",
              "      <td>@PastellPeeps</td>\n",
              "    </tr>\n",
              "    <tr>\n",
              "      <th>45</th>\n",
              "      <td>2022-04-26 06:39:42+00:00</td>\n",
              "      <td>Figuring out next steps to turning your passio...</td>\n",
              "    </tr>\n",
              "    <tr>\n",
              "      <th>46</th>\n",
              "      <td>2022-04-26 06:39:42+00:00</td>\n",
              "      <td>@ashishdave You are not even adding Like and S...</td>\n",
              "    </tr>\n",
              "    <tr>\n",
              "      <th>47</th>\n",
              "      <td>2022-04-26 06:39:42+00:00</td>\n",
              "      <td>@satyakumar_y Central govt need to take decisi...</td>\n",
              "    </tr>\n",
              "    <tr>\n",
              "      <th>48</th>\n",
              "      <td>2022-04-26 06:39:42+00:00</td>\n",
              "      <td>@Iyervval Why does this cartoon remind me of V...</td>\n",
              "    </tr>\n",
              "    <tr>\n",
              "      <th>49</th>\n",
              "      <td>2022-04-26 06:39:42+00:00</td>\n",
              "      <td>@eurydicelives Such a low bar for women to be ...</td>\n",
              "    </tr>\n",
              "  </tbody>\n",
              "</table>\n",
              "</div>\n",
              "      <button class=\"colab-df-convert\" onclick=\"convertToInteractive('df-2b63e15a-e930-4801-855c-26f58b6d8f40')\"\n",
              "              title=\"Convert this dataframe to an interactive table.\"\n",
              "              style=\"display:none;\">\n",
              "        \n",
              "  <svg xmlns=\"http://www.w3.org/2000/svg\" height=\"24px\"viewBox=\"0 0 24 24\"\n",
              "       width=\"24px\">\n",
              "    <path d=\"M0 0h24v24H0V0z\" fill=\"none\"/>\n",
              "    <path d=\"M18.56 5.44l.94 2.06.94-2.06 2.06-.94-2.06-.94-.94-2.06-.94 2.06-2.06.94zm-11 1L8.5 8.5l.94-2.06 2.06-.94-2.06-.94L8.5 2.5l-.94 2.06-2.06.94zm10 10l.94 2.06.94-2.06 2.06-.94-2.06-.94-.94-2.06-.94 2.06-2.06.94z\"/><path d=\"M17.41 7.96l-1.37-1.37c-.4-.4-.92-.59-1.43-.59-.52 0-1.04.2-1.43.59L10.3 9.45l-7.72 7.72c-.78.78-.78 2.05 0 2.83L4 21.41c.39.39.9.59 1.41.59.51 0 1.02-.2 1.41-.59l7.78-7.78 2.81-2.81c.8-.78.8-2.07 0-2.86zM5.41 20L4 18.59l7.72-7.72 1.47 1.35L5.41 20z\"/>\n",
              "  </svg>\n",
              "      </button>\n",
              "      \n",
              "  <style>\n",
              "    .colab-df-container {\n",
              "      display:flex;\n",
              "      flex-wrap:wrap;\n",
              "      gap: 12px;\n",
              "    }\n",
              "\n",
              "    .colab-df-convert {\n",
              "      background-color: #E8F0FE;\n",
              "      border: none;\n",
              "      border-radius: 50%;\n",
              "      cursor: pointer;\n",
              "      display: none;\n",
              "      fill: #1967D2;\n",
              "      height: 32px;\n",
              "      padding: 0 0 0 0;\n",
              "      width: 32px;\n",
              "    }\n",
              "\n",
              "    .colab-df-convert:hover {\n",
              "      background-color: #E2EBFA;\n",
              "      box-shadow: 0px 1px 2px rgba(60, 64, 67, 0.3), 0px 1px 3px 1px rgba(60, 64, 67, 0.15);\n",
              "      fill: #174EA6;\n",
              "    }\n",
              "\n",
              "    [theme=dark] .colab-df-convert {\n",
              "      background-color: #3B4455;\n",
              "      fill: #D2E3FC;\n",
              "    }\n",
              "\n",
              "    [theme=dark] .colab-df-convert:hover {\n",
              "      background-color: #434B5C;\n",
              "      box-shadow: 0px 1px 3px 1px rgba(0, 0, 0, 0.15);\n",
              "      filter: drop-shadow(0px 1px 2px rgba(0, 0, 0, 0.3));\n",
              "      fill: #FFFFFF;\n",
              "    }\n",
              "  </style>\n",
              "\n",
              "      <script>\n",
              "        const buttonEl =\n",
              "          document.querySelector('#df-2b63e15a-e930-4801-855c-26f58b6d8f40 button.colab-df-convert');\n",
              "        buttonEl.style.display =\n",
              "          google.colab.kernel.accessAllowed ? 'block' : 'none';\n",
              "\n",
              "        async function convertToInteractive(key) {\n",
              "          const element = document.querySelector('#df-2b63e15a-e930-4801-855c-26f58b6d8f40');\n",
              "          const dataTable =\n",
              "            await google.colab.kernel.invokeFunction('convertToInteractive',\n",
              "                                                     [key], {});\n",
              "          if (!dataTable) return;\n",
              "\n",
              "          const docLinkHtml = 'Like what you see? Visit the ' +\n",
              "            '<a target=\"_blank\" href=https://colab.research.google.com/notebooks/data_table.ipynb>data table notebook</a>'\n",
              "            + ' to learn more about interactive tables.';\n",
              "          element.innerHTML = '';\n",
              "          dataTable['output_type'] = 'display_data';\n",
              "          await google.colab.output.renderOutput(dataTable, element);\n",
              "          const docLink = document.createElement('div');\n",
              "          docLink.innerHTML = docLinkHtml;\n",
              "          element.appendChild(docLink);\n",
              "        }\n",
              "      </script>\n",
              "    </div>\n",
              "  </div>\n",
              "  "
            ]
          },
          "metadata": {},
          "execution_count": 10
        }
      ]
    },
    {
      "cell_type": "code",
      "source": [
        "!pip install demoji\n",
        "import demoji\n",
        "text=\"That is so funny 😂😂😂😉😉 \"\n",
        "print(\"Text before : \",text)\n",
        "final_op = demoji.replace(text,repl='')\n",
        "print(\"Text after : \",final_op)"
      ],
      "metadata": {
        "colab": {
          "base_uri": "https://localhost:8080/"
        },
        "id": "XIlCKCFfNipw",
        "outputId": "d8985a47-dcfa-4ca3-b5be-4410df681c51"
      },
      "execution_count": null,
      "outputs": [
        {
          "output_type": "stream",
          "name": "stdout",
          "text": [
            "Requirement already satisfied: demoji in /usr/local/lib/python3.7/dist-packages (1.1.0)\n",
            "Text before :  That is so funny 😂😂😂😉😉 \n",
            "Text after :  That is so funny  \n"
          ]
        }
      ]
    },
    {
      "cell_type": "code",
      "source": [
        "import re\n",
        "def delete_unneccessary_data(tweet):\n",
        "  tweet = demoji.replace(tweet,repl='')\n",
        "  tweet = re.sub(r'[^\\w\\s\\__]', '', tweet)\n",
        "\n",
        "  #delte username\n",
        "  tweet = re.sub('@[^\\s]+','',tweet)\n",
        "  tweet = re.sub('username[^\\s]+','',tweet)\n",
        "\n",
        "  #delete javascript tags\n",
        "  tweet =re.sub('< *script*>.*?< *script*>',' ',tweet)\n",
        "    \n",
        "  #delete all html tags\n",
        "  tweet = re.sub('<.*?>',' ',tweet)\n",
        "\n",
        "  #delete  https?://* \n",
        "  tweet=re.sub(r'http\\S+', '', tweet)\n",
        "\n",
        "  #delete duplicate characters\n",
        "  tweet = re.sub(r\"(.)\\1{2,}\", r\"\\1\\1\", tweet)\n",
        "\n",
        "  #delete numbers\n",
        "  tweet = re.sub(\"[0-9><,]+\",\" \",tweet)\n",
        "\n",
        "  #delete underscore\n",
        "  tweet= re.sub(\"[\\_]\",'',tweet)\n",
        "  \n",
        "  \n",
        "  return tweet"
      ],
      "metadata": {
        "id": "5Wb1S9wNiVGq"
      },
      "execution_count": null,
      "outputs": []
    },
    {
      "cell_type": "code",
      "source": [
        "tweet=\"@abc_xyz is pursuing in B.Tech in UMIT,SNDT.😂😂😂😉😉\"\n",
        "print(\"before: \",tweet)\n",
        "tweet=delete_unneccessary_data(tweet)\n",
        "print(\"after: \",tweet)"
      ],
      "metadata": {
        "colab": {
          "base_uri": "https://localhost:8080/"
        },
        "id": "bAgX_sWtikqa",
        "outputId": "6a830d23-afeb-4f5b-a98f-7c349a501934"
      },
      "execution_count": null,
      "outputs": [
        {
          "output_type": "stream",
          "name": "stdout",
          "text": [
            "before:  @abc_xyz is pursuing in B.Tech in UMIT,SNDT.😂😂😂😉😉\n",
            "after:  abcxyz is pursuing in BTech in UMITSNDT\n"
          ]
        }
      ]
    },
    {
      "cell_type": "markdown",
      "source": [
        "# 2] Normalising Whitespace"
      ],
      "metadata": {
        "id": "w42sMC4cGoFK"
      }
    },
    {
      "cell_type": "code",
      "source": [
        "def normalize_whitespace(tweet):\n",
        "    tweet = re.sub('[\\s]+', ' ', tweet)\n",
        "    return tweet"
      ],
      "metadata": {
        "id": "ZC1Y_ZH5GYI2"
      },
      "execution_count": null,
      "outputs": []
    },
    {
      "cell_type": "markdown",
      "source": [
        "Testing Function"
      ],
      "metadata": {
        "id": "e4IPOJDzI5O6"
      }
    },
    {
      "cell_type": "code",
      "source": [
        "text = \"         We        are the students    of    UMIT,SNDT. \"\n",
        "print(\"Text Before: \",text)\n",
        "text = normalize_whitespace(text)\n",
        "print(\"Text After: \",text)"
      ],
      "metadata": {
        "colab": {
          "base_uri": "https://localhost:8080/"
        },
        "id": "8gYA5rLsGdZ5",
        "outputId": "760ae804-5ba3-4e41-90e4-bd8c676137be"
      },
      "execution_count": null,
      "outputs": [
        {
          "output_type": "stream",
          "name": "stdout",
          "text": [
            "Text Before:           We        are the students    of    UMIT,SNDT. \n",
            "Text After:   We are the students of UMIT,SNDT. \n"
          ]
        }
      ]
    },
    {
      "cell_type": "markdown",
      "source": [
        "#3] Convert hashtags into separate words"
      ],
      "metadata": {
        "id": "kHenLvURJMNZ"
      }
    },
    {
      "cell_type": "code",
      "source": [
        "def sp_h(hashtag_string):\n",
        "    fo = re.compile(r'#[A-Z]{2,}(?![a-z])|[A-Z][a-z]+')\n",
        "    \n",
        "   \n",
        "    fi = fo.findall(hashtag_string)\n",
        "    \n",
        "    return ' '.join(fi)"
      ],
      "metadata": {
        "id": "GkowVP4TIkaK"
      },
      "execution_count": null,
      "outputs": []
    },
    {
      "cell_type": "code",
      "source": [
        "def split_hashtag(tweet):\n",
        "    tweet = re.sub(r'#[^\\s]+', lambda m: sp_h(m.group()), tweet)  #CovidCrisis => Covid Crisis\n",
        "    return tweet"
      ],
      "metadata": {
        "id": "ZlMTQLK5JD4S"
      },
      "execution_count": null,
      "outputs": []
    },
    {
      "cell_type": "markdown",
      "source": [
        "Testing Function"
      ],
      "metadata": {
        "id": "GP-28QB7JHfL"
      }
    },
    {
      "cell_type": "code",
      "source": [
        "text = \" student of #UmitStudent\"\n",
        "print(\"Text Before: \",text)\n",
        "text = split_hashtag(text);\n",
        "print(\"Text After: \",text)\n"
      ],
      "metadata": {
        "colab": {
          "base_uri": "https://localhost:8080/"
        },
        "id": "UH28_bgQJAZr",
        "outputId": "1a4de270-6963-44b8-f983-22ed43fc5a93"
      },
      "execution_count": null,
      "outputs": [
        {
          "output_type": "stream",
          "name": "stdout",
          "text": [
            "Text Before:   student of #UmitStudent\n",
            "Text After:   student of Umit Student\n"
          ]
        }
      ]
    },
    {
      "cell_type": "markdown",
      "source": [
        "# 4] Creating a function to translate the text to English."
      ],
      "metadata": {
        "id": "eKuq5OXOJ7rW"
      }
    },
    {
      "cell_type": "code",
      "source": [
        "!pip install googletrans==3.1.0a0"
      ],
      "metadata": {
        "id": "1PDkNN8MJ5el",
        "colab": {
          "base_uri": "https://localhost:8080/"
        },
        "outputId": "c451b1bf-a3d5-4760-f803-e544fb52bb6e"
      },
      "execution_count": null,
      "outputs": [
        {
          "output_type": "stream",
          "name": "stdout",
          "text": [
            "Collecting googletrans==3.1.0a0\n",
            "  Downloading googletrans-3.1.0a0.tar.gz (19 kB)\n",
            "Collecting httpx==0.13.3\n",
            "  Downloading httpx-0.13.3-py3-none-any.whl (55 kB)\n",
            "\u001b[K     |████████████████████████████████| 55 kB 2.6 MB/s \n",
            "\u001b[?25hRequirement already satisfied: idna==2.* in /usr/local/lib/python3.7/dist-packages (from httpx==0.13.3->googletrans==3.1.0a0) (2.10)\n",
            "Requirement already satisfied: certifi in /usr/local/lib/python3.7/dist-packages (from httpx==0.13.3->googletrans==3.1.0a0) (2021.10.8)\n",
            "Collecting rfc3986<2,>=1.3\n",
            "  Downloading rfc3986-1.5.0-py2.py3-none-any.whl (31 kB)\n",
            "Collecting hstspreload\n",
            "  Downloading hstspreload-2021.12.1-py3-none-any.whl (1.3 MB)\n",
            "\u001b[K     |████████████████████████████████| 1.3 MB 15.1 MB/s \n",
            "\u001b[?25hCollecting httpcore==0.9.*\n",
            "  Downloading httpcore-0.9.1-py3-none-any.whl (42 kB)\n",
            "\u001b[K     |████████████████████████████████| 42 kB 1.5 MB/s \n",
            "\u001b[?25hCollecting sniffio\n",
            "  Downloading sniffio-1.2.0-py3-none-any.whl (10 kB)\n",
            "Requirement already satisfied: chardet==3.* in /usr/local/lib/python3.7/dist-packages (from httpx==0.13.3->googletrans==3.1.0a0) (3.0.4)\n",
            "Collecting h2==3.*\n",
            "  Downloading h2-3.2.0-py2.py3-none-any.whl (65 kB)\n",
            "\u001b[K     |████████████████████████████████| 65 kB 4.0 MB/s \n",
            "\u001b[?25hCollecting h11<0.10,>=0.8\n",
            "  Downloading h11-0.9.0-py2.py3-none-any.whl (53 kB)\n",
            "\u001b[K     |████████████████████████████████| 53 kB 2.4 MB/s \n",
            "\u001b[?25hCollecting hpack<4,>=3.0\n",
            "  Downloading hpack-3.0.0-py2.py3-none-any.whl (38 kB)\n",
            "Collecting hyperframe<6,>=5.2.0\n",
            "  Downloading hyperframe-5.2.0-py2.py3-none-any.whl (12 kB)\n",
            "Building wheels for collected packages: googletrans\n",
            "  Building wheel for googletrans (setup.py) ... \u001b[?25l\u001b[?25hdone\n",
            "  Created wheel for googletrans: filename=googletrans-3.1.0a0-py3-none-any.whl size=16367 sha256=5c745c8c14e00583cb8b5359c8a2aa8cbd9e0bb717aea6b33be1c048d11a741a\n",
            "  Stored in directory: /root/.cache/pip/wheels/0c/be/fe/93a6a40ffe386e16089e44dad9018ebab9dc4cb9eb7eab65ae\n",
            "Successfully built googletrans\n",
            "Installing collected packages: hyperframe, hpack, sniffio, h2, h11, rfc3986, httpcore, hstspreload, httpx, googletrans\n",
            "Successfully installed googletrans-3.1.0a0 h11-0.9.0 h2-3.2.0 hpack-3.0.0 hstspreload-2021.12.1 httpcore-0.9.1 httpx-0.13.3 hyperframe-5.2.0 rfc3986-1.5.0 sniffio-1.2.0\n"
          ]
        }
      ]
    },
    {
      "cell_type": "code",
      "source": [
        "import googletrans\n",
        "from googletrans import Translator"
      ],
      "metadata": {
        "id": "JTFwJLfxKGWc"
      },
      "execution_count": null,
      "outputs": []
    },
    {
      "cell_type": "code",
      "source": [
        "def translate_to_english(tweet):\n",
        "    translator = Translator()\n",
        "    tweet = translator.translate(tweet).text\n",
        "    return tweet"
      ],
      "metadata": {
        "id": "UYxwulCwKI3X"
      },
      "execution_count": null,
      "outputs": []
    },
    {
      "cell_type": "markdown",
      "source": [
        "Testing Function"
      ],
      "metadata": {
        "id": "CAfJlSEKLLlE"
      }
    },
    {
      "cell_type": "code",
      "source": [
        "text = \"मैंने खाना खा लिया\"\n",
        "text = translate_to_english(text)\n",
        "print(text)"
      ],
      "metadata": {
        "colab": {
          "base_uri": "https://localhost:8080/"
        },
        "id": "wJa0yHuzKL1G",
        "outputId": "1db5d3bf-4580-4494-9421-7df4020042b9"
      },
      "execution_count": null,
      "outputs": [
        {
          "output_type": "stream",
          "name": "stdout",
          "text": [
            "I have had my meal\n"
          ]
        }
      ]
    },
    {
      "cell_type": "markdown",
      "source": [
        "#5] Create a function for automatic correction of spelling mistakes"
      ],
      "metadata": {
        "id": "McWChHW4MBFh"
      }
    },
    {
      "cell_type": "code",
      "source": [
        "!pip install autocorrect\n",
        "from autocorrect import Speller\n",
        "spell = Speller(lang='en')\n"
      ],
      "metadata": {
        "colab": {
          "base_uri": "https://localhost:8080/"
        },
        "id": "6k8ajVuhL0BM",
        "outputId": "46296fda-a93b-481f-ac96-1b6d330e0770"
      },
      "execution_count": null,
      "outputs": [
        {
          "output_type": "stream",
          "name": "stdout",
          "text": [
            "Collecting autocorrect\n",
            "  Downloading autocorrect-2.6.1.tar.gz (622 kB)\n",
            "\u001b[?25l\r\u001b[K     |▌                               | 10 kB 28.4 MB/s eta 0:00:01\r\u001b[K     |█                               | 20 kB 32.9 MB/s eta 0:00:01\r\u001b[K     |█▋                              | 30 kB 18.8 MB/s eta 0:00:01\r\u001b[K     |██                              | 40 kB 12.9 MB/s eta 0:00:01\r\u001b[K     |██▋                             | 51 kB 7.4 MB/s eta 0:00:01\r\u001b[K     |███▏                            | 61 kB 8.7 MB/s eta 0:00:01\r\u001b[K     |███▊                            | 71 kB 8.2 MB/s eta 0:00:01\r\u001b[K     |████▏                           | 81 kB 6.5 MB/s eta 0:00:01\r\u001b[K     |████▊                           | 92 kB 7.2 MB/s eta 0:00:01\r\u001b[K     |█████▎                          | 102 kB 7.8 MB/s eta 0:00:01\r\u001b[K     |█████▉                          | 112 kB 7.8 MB/s eta 0:00:01\r\u001b[K     |██████▎                         | 122 kB 7.8 MB/s eta 0:00:01\r\u001b[K     |██████▉                         | 133 kB 7.8 MB/s eta 0:00:01\r\u001b[K     |███████▍                        | 143 kB 7.8 MB/s eta 0:00:01\r\u001b[K     |████████                        | 153 kB 7.8 MB/s eta 0:00:01\r\u001b[K     |████████▍                       | 163 kB 7.8 MB/s eta 0:00:01\r\u001b[K     |█████████                       | 174 kB 7.8 MB/s eta 0:00:01\r\u001b[K     |█████████▌                      | 184 kB 7.8 MB/s eta 0:00:01\r\u001b[K     |██████████                      | 194 kB 7.8 MB/s eta 0:00:01\r\u001b[K     |██████████▌                     | 204 kB 7.8 MB/s eta 0:00:01\r\u001b[K     |███████████                     | 215 kB 7.8 MB/s eta 0:00:01\r\u001b[K     |███████████▋                    | 225 kB 7.8 MB/s eta 0:00:01\r\u001b[K     |████████████                    | 235 kB 7.8 MB/s eta 0:00:01\r\u001b[K     |████████████▋                   | 245 kB 7.8 MB/s eta 0:00:01\r\u001b[K     |█████████████▏                  | 256 kB 7.8 MB/s eta 0:00:01\r\u001b[K     |█████████████▊                  | 266 kB 7.8 MB/s eta 0:00:01\r\u001b[K     |██████████████▏                 | 276 kB 7.8 MB/s eta 0:00:01\r\u001b[K     |██████████████▊                 | 286 kB 7.8 MB/s eta 0:00:01\r\u001b[K     |███████████████▎                | 296 kB 7.8 MB/s eta 0:00:01\r\u001b[K     |███████████████▉                | 307 kB 7.8 MB/s eta 0:00:01\r\u001b[K     |████████████████▎               | 317 kB 7.8 MB/s eta 0:00:01\r\u001b[K     |████████████████▉               | 327 kB 7.8 MB/s eta 0:00:01\r\u001b[K     |█████████████████▍              | 337 kB 7.8 MB/s eta 0:00:01\r\u001b[K     |██████████████████              | 348 kB 7.8 MB/s eta 0:00:01\r\u001b[K     |██████████████████▍             | 358 kB 7.8 MB/s eta 0:00:01\r\u001b[K     |███████████████████             | 368 kB 7.8 MB/s eta 0:00:01\r\u001b[K     |███████████████████▌            | 378 kB 7.8 MB/s eta 0:00:01\r\u001b[K     |████████████████████            | 389 kB 7.8 MB/s eta 0:00:01\r\u001b[K     |████████████████████▌           | 399 kB 7.8 MB/s eta 0:00:01\r\u001b[K     |█████████████████████           | 409 kB 7.8 MB/s eta 0:00:01\r\u001b[K     |█████████████████████▋          | 419 kB 7.8 MB/s eta 0:00:01\r\u001b[K     |██████████████████████          | 430 kB 7.8 MB/s eta 0:00:01\r\u001b[K     |██████████████████████▋         | 440 kB 7.8 MB/s eta 0:00:01\r\u001b[K     |███████████████████████▏        | 450 kB 7.8 MB/s eta 0:00:01\r\u001b[K     |███████████████████████▊        | 460 kB 7.8 MB/s eta 0:00:01\r\u001b[K     |████████████████████████▏       | 471 kB 7.8 MB/s eta 0:00:01\r\u001b[K     |████████████████████████▊       | 481 kB 7.8 MB/s eta 0:00:01\r\u001b[K     |█████████████████████████▎      | 491 kB 7.8 MB/s eta 0:00:01\r\u001b[K     |█████████████████████████▉      | 501 kB 7.8 MB/s eta 0:00:01\r\u001b[K     |██████████████████████████▎     | 512 kB 7.8 MB/s eta 0:00:01\r\u001b[K     |██████████████████████████▉     | 522 kB 7.8 MB/s eta 0:00:01\r\u001b[K     |███████████████████████████▍    | 532 kB 7.8 MB/s eta 0:00:01\r\u001b[K     |███████████████████████████▉    | 542 kB 7.8 MB/s eta 0:00:01\r\u001b[K     |████████████████████████████▍   | 552 kB 7.8 MB/s eta 0:00:01\r\u001b[K     |█████████████████████████████   | 563 kB 7.8 MB/s eta 0:00:01\r\u001b[K     |█████████████████████████████▌  | 573 kB 7.8 MB/s eta 0:00:01\r\u001b[K     |██████████████████████████████  | 583 kB 7.8 MB/s eta 0:00:01\r\u001b[K     |██████████████████████████████▌ | 593 kB 7.8 MB/s eta 0:00:01\r\u001b[K     |███████████████████████████████ | 604 kB 7.8 MB/s eta 0:00:01\r\u001b[K     |███████████████████████████████▋| 614 kB 7.8 MB/s eta 0:00:01\r\u001b[K     |████████████████████████████████| 622 kB 7.8 MB/s \n",
            "\u001b[?25hBuilding wheels for collected packages: autocorrect\n",
            "  Building wheel for autocorrect (setup.py) ... \u001b[?25l\u001b[?25hdone\n",
            "  Created wheel for autocorrect: filename=autocorrect-2.6.1-py3-none-any.whl size=622382 sha256=2d1b8e4a8a4cc38c85d1f68be3eebbe44d89028ea4ca1b951f69e6e1450e6fce\n",
            "  Stored in directory: /root/.cache/pip/wheels/54/d4/37/8244101ad50b0f7d9bffd93ce58ed7991ee1753b290923934b\n",
            "Successfully built autocorrect\n",
            "Installing collected packages: autocorrect\n",
            "Successfully installed autocorrect-2.6.1\n"
          ]
        }
      ]
    },
    {
      "cell_type": "code",
      "source": [
        "#re -regular expression r- raw text \n",
        "#\\ space \n",
        "import re\n",
        "def correct_slang(text):\n",
        "    #convert to lower case\n",
        "    text = text.lower()\n",
        "    # Clean the text\n",
        "    text = re.sub(r\"\\'s \", \"is\", text) # we have cases like \"Sam is\" or \"Sam's\" (i.e. his) these two cases aren't separable, I choose to compromise are kill \"'s\" directly\n",
        "    text = re.sub(r\"whats\", \"what is\", text, flags=re.IGNORECASE)\n",
        "    text = re.sub(r\"\\'ve|hav\", \"have\", text)\n",
        "    text = re.sub(r\"n\\'t\", \"not\", text)\n",
        "    text = re.sub(r\"i'm\", \"i am\", text, flags=re.IGNORECASE)\n",
        "    text = re.sub(r\"\\re\", \"are\", text) \n",
        "    text = re.sub(r\"\\'d\", \"would\", text)\n",
        "    text = re.sub(r\"\\'ll\", \"will\", text)\n",
        "    text = re.sub(r\"e-mail\", \"email\", text, flags=re.IGNORECASE)\n",
        "    text = re.sub(r\"\\(s\\)\", \" \", text, flags=re.IGNORECASE)           #mester(s)\n",
        "    text = re.sub(r\"(the[\\s]+|The[\\s]+)?(us(a)?|u\\.s\\.(a\\.)?|united state(s)?)\", \"america\", text)\n",
        "    text = re.sub(r\"uk\", \"england\", text, flags=re.IGNORECASE)\n",
        "    text = re.sub(r\"imrovement\", \"improvement\", text, flags=re.IGNORECASE)\n",
        "    text = re.sub(r\"intially\", \"initially\", text, flags=re.IGNORECASE)\n",
        "    text = re.sub(r\"dms\", \"direct messages\", text, flags=re.IGNORECASE)  \n",
        "    text = re.sub(r\" demonitization \", \"demonetization\", text, flags=re.IGNORECASE) \n",
        "    text = re.sub(r\"actived\", \"active\", text, flags=re.IGNORECASE)\n",
        "    text = re.sub(r\"kms\", \"kilometers\", text, flags=re.IGNORECASE)\n",
        "    text = re.sub(r\"cs\", \"computer science\", text, flags=re.IGNORECASE)\n",
        "    text = re.sub(r\"calender\", \"calendar\", text, flags=re.IGNORECASE)\n",
        "    text = re.sub(r\"ios\", \"operating system\", text, flags=re.IGNORECASE)\n",
        "    text = re.sub(r\"programing\", \"programming\", text, flags=re.IGNORECASE)\n",
        "    text = re.sub(r\"bestfriend\", \"best friend\", text, flags=re.IGNORECASE)\n",
        "    text = re.sub(r\"bn8|god8\" ,'good night', text, flags=re.IGNORECASE)\n",
        "    text = re.sub(r\"2moro|2mrrw|2morrow|2mrw|tomrw\", \"tomorrow\", text)\n",
        "    text = re.sub(r\"b4\", \"before\", text)\n",
        "    text = re.sub(r\"otw\", \"on the way\", text)\n",
        "    text=re.sub(r\"wht\",\"what\",text)\n",
        "    text=re.sub(r\"yuh\",\"you\",text)\n",
        "    text=re.sub(r\"doin\",\"doing\",text)\n",
        "    text=re.sub(r\"exm\",\"exam\",text)\n",
        "\n",
        "    #text=spell(text)\n",
        "\n",
        "    return text"
      ],
      "metadata": {
        "id": "wLRjj11jMPFD"
      },
      "execution_count": null,
      "outputs": []
    },
    {
      "cell_type": "code",
      "source": [
        "text =\"otw , wht exm \"\n",
        "print(\"Text Before: \",text)\n",
        "text=correct_slang(text)\n",
        "print(\"Text After: \",text)"
      ],
      "metadata": {
        "colab": {
          "base_uri": "https://localhost:8080/"
        },
        "id": "6TBOeqCWMY7y",
        "outputId": "2704e419-62ef-4cfc-a7fb-a4946cfb8c09"
      },
      "execution_count": null,
      "outputs": [
        {
          "output_type": "stream",
          "name": "stdout",
          "text": [
            "Text Before:  otw , wht exm \n",
            "Text After:  on the way , what exam \n"
          ]
        }
      ]
    },
    {
      "cell_type": "markdown",
      "source": [
        "# Building our model"
      ],
      "metadata": {
        "id": "38zk1xzhebsv"
      }
    },
    {
      "cell_type": "markdown",
      "source": [
        "# Removing stopwords"
      ],
      "metadata": {
        "id": "jZvRNARBd3HH"
      }
    },
    {
      "cell_type": "code",
      "source": [
        "with open(\"/dummy.txt\",\"w\") as f : #making object\n",
        "  f.write(\"text to write\")\n",
        "  f.close()                                  # . means a function  ,this fucntion closes a function"
      ],
      "metadata": {
        "id": "1iUkm6q8RPuT"
      },
      "execution_count": null,
      "outputs": []
    },
    {
      "cell_type": "code",
      "source": [
        "\n",
        "import nltk\n",
        "nltk.download('stopwords')\n",
        "import gensim\n",
        "from gensim.parsing.preprocessing import STOPWORDS\n",
        "from nltk.corpus import stopwords\n",
        "\n",
        "stop_words = stopwords.words('english')\n",
        "\n",
        "\n",
        "def remove_stopwords(text):\n",
        "  final_s=\"\"\n",
        "  # #text=\"my name is shrushti and i am a girl\"\n",
        "  # with open(\"trial_data/dummy.txt\",'r') as f:                            # file = f  whatevre file we need to add at place of dummy\n",
        "  #   text=f.read()\n",
        "  text_arr= text.split(\" \")                                              #splits sentence when space occurs\n",
        "  print(text_arr)\n",
        "  for word in text_arr:                             \n",
        "    if word not in stop_words:           # if word is not in stopword then append(join) it to string \n",
        "      final_s= final_s + word + \" \"\n",
        "\n",
        "  return final_s \n"
      ],
      "metadata": {
        "id": "NkCWtjmbOn6m",
        "colab": {
          "base_uri": "https://localhost:8080/"
        },
        "outputId": "8beed861-01c5-44f9-983f-af2da1ae6267"
      },
      "execution_count": null,
      "outputs": [
        {
          "output_type": "stream",
          "name": "stdout",
          "text": [
            "[nltk_data] Downloading package stopwords to /root/nltk_data...\n",
            "[nltk_data]   Unzipping corpora/stopwords.zip.\n"
          ]
        }
      ]
    },
    {
      "cell_type": "markdown",
      "source": [
        "# Stemming "
      ],
      "metadata": {
        "id": "IOhqVKHKds3x"
      }
    },
    {
      "cell_type": "code",
      "source": [
        "import nltk\n",
        "# nltk.download('wordnet')\n",
        "from nltk.stem import WordNetLemmatizer, SnowballStemmer, PorterStemmer\n",
        "\n",
        "stemmer = PorterStemmer()\n",
        "\n",
        "def tokenize_stemming(text):\n",
        "    text = re.sub(r'[^\\w\\s]','',text)\n",
        "    #replace multiple spaces with one space\n",
        "    text = re.sub(r'[\\s]+',' ',text)\n",
        "    #transfer text to lowercase\n",
        "    text = text.lower() \n",
        "    # tokenize text\n",
        "    tokens = re.split(\" \", text)\n",
        "\n",
        "    # Remove stop words \n",
        "    result = []\n",
        "    for token in tokens :\n",
        "        if token not in stop_words and len(token) > 1:\n",
        "            result.append(stemmer.stem(token))\n",
        "\n",
        "    return result"
      ],
      "metadata": {
        "id": "K3KlUUwkPKST"
      },
      "execution_count": null,
      "outputs": []
    },
    {
      "cell_type": "markdown",
      "source": [
        "Testing Function"
      ],
      "metadata": {
        "id": "aOl4e4lSbo1n"
      }
    },
    {
      "cell_type": "code",
      "source": [
        "text = \"how to develop information retrieval applications\"\n",
        "print(\"Text Before: \",text)\n",
        "text = tokenize_stemming(text);\n",
        "print(\"Text After: \",text)\n"
      ],
      "metadata": {
        "colab": {
          "base_uri": "https://localhost:8080/"
        },
        "id": "UoOWLKBjPWq_",
        "outputId": "70a7b6ff-8480-40f2-b837-e22a2b2400e4"
      },
      "execution_count": null,
      "outputs": [
        {
          "output_type": "stream",
          "name": "stdout",
          "text": [
            "Text Before:  how to develop information retrieval applications\n",
            "Text After:  ['develop', 'inform', 'retriev', 'applic']\n"
          ]
        }
      ]
    },
    {
      "cell_type": "markdown",
      "source": [
        "# Combining all the preprocessing"
      ],
      "metadata": {
        "id": "ALRxOmBuhIXp"
      }
    },
    {
      "cell_type": "code",
      "source": [
        "def pre_processing(tweet):\n",
        "    tweet =split_hashtag(tweet)\n",
        "    #print(\"#split :\",tweet)\n",
        "    tweet = delete_unneccessary_data(tweet)\n",
        "    #print(\"delete:\",tweet)\n",
        "    tweet =normalize_whitespace(tweet)\n",
        "    #print(\"norm:\",tweet)\n",
        "    # tweet =sp_h(tweet)\n",
        "    # print(tweet)\n",
        "   \n",
        "   \n",
        "    tweet =translate_to_english(tweet)\n",
        "    #print(\"translate:\",tweet)\n",
        "    tweet = correct_slang(tweet)\n",
        "    #print(\"slag correct:\",tweet)\n",
        "    tweet =remove_stopwords(tweet)\n",
        "    #print(\"stopword removez:\",tweet)\n",
        "   \n",
        "    tweet=tokenize_stemming(tweet)\n",
        "    #print(\"token result: \",tweet)\n",
        "    \n",
        "    return tweet\n",
        "\n"
      ],
      "metadata": {
        "id": "yKX9ud2LhHuo"
      },
      "execution_count": null,
      "outputs": []
    },
    {
      "cell_type": "markdown",
      "source": [
        "Testing Function"
      ],
      "metadata": {
        "id": "sOE0q0xcfhA2"
      }
    },
    {
      "cell_type": "code",
      "source": [
        "pre_processing(\"@We are         student of #UmitStudent . 😂😂\")"
      ],
      "metadata": {
        "colab": {
          "base_uri": "https://localhost:8080/"
        },
        "id": "toqJRu-1VqDe",
        "outputId": "5f6c90ae-d4cc-4612-fefb-d8fb478f6ba0"
      },
      "execution_count": null,
      "outputs": [
        {
          "output_type": "stream",
          "name": "stdout",
          "text": [
            "['we', 'are', 'student', 'of', 'umit', 'student']\n"
          ]
        },
        {
          "output_type": "execute_result",
          "data": {
            "text/plain": [
              "['student', 'umit', 'student']"
            ]
          },
          "metadata": {},
          "execution_count": 31
        }
      ]
    },
    {
      "cell_type": "markdown",
      "source": [
        "# Loading Data"
      ],
      "metadata": {
        "id": "Ma_3MYcOhZcn"
      }
    },
    {
      "cell_type": "code",
      "source": [
        "df = pd.read_csv('t3_data.csv')\n",
        "df"
      ],
      "metadata": {
        "id": "P5DgaAhuheru",
        "colab": {
          "base_uri": "https://localhost:8080/",
          "height": 1000
        },
        "outputId": "190217ca-2d48-4523-8993-0ef6d696fe21"
      },
      "execution_count": null,
      "outputs": [
        {
          "output_type": "execute_result",
          "data": {
            "text/plain": [
              "    Unnamed: 0                       date  \\\n",
              "0            0  2022-04-26 06:39:46+00:00   \n",
              "1            1  2022-04-26 06:39:46+00:00   \n",
              "2            2  2022-04-26 06:39:46+00:00   \n",
              "3            3  2022-04-26 06:39:46+00:00   \n",
              "4            4  2022-04-26 06:39:46+00:00   \n",
              "5            5  2022-04-26 06:39:46+00:00   \n",
              "6            6  2022-04-26 06:39:46+00:00   \n",
              "7            7  2022-04-26 06:39:45+00:00   \n",
              "8            8  2022-04-26 06:39:45+00:00   \n",
              "9            9  2022-04-26 06:39:45+00:00   \n",
              "10          10  2022-04-26 06:39:45+00:00   \n",
              "11          11  2022-04-26 06:39:45+00:00   \n",
              "12          12  2022-04-26 06:39:45+00:00   \n",
              "13          13  2022-04-26 06:39:45+00:00   \n",
              "14          14  2022-04-26 06:39:45+00:00   \n",
              "15          15  2022-04-26 06:39:45+00:00   \n",
              "16          16  2022-04-26 06:39:45+00:00   \n",
              "17          17  2022-04-26 06:39:45+00:00   \n",
              "18          18  2022-04-26 06:39:45+00:00   \n",
              "19          19  2022-04-26 06:39:45+00:00   \n",
              "20          20  2022-04-26 06:39:45+00:00   \n",
              "21          21  2022-04-26 06:39:44+00:00   \n",
              "22          22  2022-04-26 06:39:44+00:00   \n",
              "23          23  2022-04-26 06:39:44+00:00   \n",
              "24          24  2022-04-26 06:39:44+00:00   \n",
              "25          25  2022-04-26 06:39:44+00:00   \n",
              "26          26  2022-04-26 06:39:44+00:00   \n",
              "27          27  2022-04-26 06:39:44+00:00   \n",
              "28          28  2022-04-26 06:39:44+00:00   \n",
              "29          29  2022-04-26 06:39:43+00:00   \n",
              "30          30  2022-04-26 06:39:43+00:00   \n",
              "31          31  2022-04-26 06:39:43+00:00   \n",
              "32          32  2022-04-26 06:39:43+00:00   \n",
              "33          33  2022-04-26 06:39:43+00:00   \n",
              "34          34  2022-04-26 06:39:43+00:00   \n",
              "35          35  2022-04-26 06:39:43+00:00   \n",
              "36          36  2022-04-26 06:39:43+00:00   \n",
              "37          37  2022-04-26 06:39:43+00:00   \n",
              "38          38  2022-04-26 06:39:43+00:00   \n",
              "39          39  2022-04-26 06:39:43+00:00   \n",
              "40          40  2022-04-26 06:39:43+00:00   \n",
              "41          41  2022-04-26 06:39:42+00:00   \n",
              "42          42  2022-04-26 06:39:42+00:00   \n",
              "43          43  2022-04-26 06:39:42+00:00   \n",
              "44          44  2022-04-26 06:39:42+00:00   \n",
              "45          45  2022-04-26 06:39:42+00:00   \n",
              "46          46  2022-04-26 06:39:42+00:00   \n",
              "47          47  2022-04-26 06:39:42+00:00   \n",
              "48          48  2022-04-26 06:39:42+00:00   \n",
              "49          49  2022-04-26 06:39:42+00:00   \n",
              "\n",
              "                                              content  \n",
              "0   @RohilChaturvedi We are still waiting for your...  \n",
              "1   This is the most comprehensive and factual rep...  \n",
              "2   @shosrnagar your work good but why are you men...  \n",
              "3                                   @Cricketracker Ki  \n",
              "4                                     @N_BN_Trader no  \n",
              "5   New Electric Car Coming to India, Will Launch ...  \n",
              "6   @arpiturfrnd To ensure that your Flipkart acco...  \n",
              "7   @anejaraaj @Mansi94893004 @Mahanaatma1 @nishac...  \n",
              "8       @Fitoor_E_Meraki Good afternoon🌹😊 Happy day 😊  \n",
              "9   @DrishtiVideos Either B or D.\\n' D ' in the se...  \n",
              "10  @samarrkf Not watched yet. Always some work ca...  \n",
              "11                  Screaming https://t.co/RQlQekDlC7  \n",
              "12  @akhilsarthak17 Ni game super...gamer Ani voor...  \n",
              "13  Dear @elonmusk ... heard that you bought #Twit...  \n",
              "14  @Cindyboiii Bernese mountain dog anta..image s...  \n",
              "15         @SugamSudrjaaa Teri baat Kyu maanu mein🙄😂😂  \n",
              "16  Teju liked 😭❣️\\n#TejasswiPrakash\\n#TejaTroops\\...  \n",
              "17                       @flamingo1712_ Veturi ARR 💯💉  \n",
              "18  #OralCancer affects the insides of the mouth a...  \n",
              "19                            https://t.co/XUZThZ2nbN  \n",
              "20        @PeterSweden7 #TrueIndology #bhardwajspeaks  \n",
              "21  SIM swapping is when a hacker convinces your c...  \n",
              "22  @Alpjivi @CTD1051 @_Ans_hu__\\n @_Setuku_2 @197...  \n",
              "23  @SushantBSinha Matlb aaj se 8:55 pe jeher dalo...  \n",
              "24  @anuraagmuskaan M F ka pure 7 puste...🤣 with t...  \n",
              "25               @cric_blog 🦆 https://t.co/ZXpvduyQXZ  \n",
              "26  The legendary banana incident 💀 https://t.co/Y...  \n",
              "27  Why should a man suffer having God within hims...  \n",
              "28                     @ShrirangaPV @Idlisambhar11 😝😂  \n",
              "29                जय बजरंगवली https://t.co/I5PVSPUqmT  \n",
              "30                              @hiyer I'll join you!  \n",
              "31  ➡️तीनों मृतकों में दो लोग एक परिवार के बताए गए...  \n",
              "32  I want to wear her initial on a chain round my...  \n",
              "33                           @iashishranjann Thanks 🤗  \n",
              "34  @BalaNandgaonkar @CMOMaharashtra @TV9Marathi @...  \n",
              "35                                 @sannibhism Waah 🔥  \n",
              "36     @AlluArjun \\n#Family 🖤 https://t.co/pW0xgBeJgd  \n",
              "37  @tanvishukla One can live double character for...  \n",
              "38  AAFT Online provides an unmatched space for yo...  \n",
              "39                           @MISbangtann #.roromochi  \n",
              "40  @ZenjinViperz @nearly @saiedabdalmoty @CCNistr...  \n",
              "41  ગાંધીનગરને મળી શકે છે પોલીસ કમિશનર\\nસોલા,સાબરમ...  \n",
              "42  #Budaun: मुजरिया थाना क्षेत्र में दर्दनाक सड़क...  \n",
              "43  @SunilYadavBJP @The_Pinakee Raat ko kutte bhow...  \n",
              "44                                    @PastellPeeps 👀  \n",
              "45  Figuring out next steps to turning your passio...  \n",
              "46  @ashishdave You are not even adding Like and S...  \n",
              "47  @satyakumar_y Central govt need to take decisi...  \n",
              "48  @Iyervval Why does this cartoon remind me of V...  \n",
              "49  @eurydicelives Such a low bar for women to be ...  "
            ],
            "text/html": [
              "\n",
              "  <div id=\"df-f6c899e3-c108-4df3-9fb7-1cea13935bdb\">\n",
              "    <div class=\"colab-df-container\">\n",
              "      <div>\n",
              "<style scoped>\n",
              "    .dataframe tbody tr th:only-of-type {\n",
              "        vertical-align: middle;\n",
              "    }\n",
              "\n",
              "    .dataframe tbody tr th {\n",
              "        vertical-align: top;\n",
              "    }\n",
              "\n",
              "    .dataframe thead th {\n",
              "        text-align: right;\n",
              "    }\n",
              "</style>\n",
              "<table border=\"1\" class=\"dataframe\">\n",
              "  <thead>\n",
              "    <tr style=\"text-align: right;\">\n",
              "      <th></th>\n",
              "      <th>Unnamed: 0</th>\n",
              "      <th>date</th>\n",
              "      <th>content</th>\n",
              "    </tr>\n",
              "  </thead>\n",
              "  <tbody>\n",
              "    <tr>\n",
              "      <th>0</th>\n",
              "      <td>0</td>\n",
              "      <td>2022-04-26 06:39:46+00:00</td>\n",
              "      <td>@RohilChaturvedi We are still waiting for your...</td>\n",
              "    </tr>\n",
              "    <tr>\n",
              "      <th>1</th>\n",
              "      <td>1</td>\n",
              "      <td>2022-04-26 06:39:46+00:00</td>\n",
              "      <td>This is the most comprehensive and factual rep...</td>\n",
              "    </tr>\n",
              "    <tr>\n",
              "      <th>2</th>\n",
              "      <td>2</td>\n",
              "      <td>2022-04-26 06:39:46+00:00</td>\n",
              "      <td>@shosrnagar your work good but why are you men...</td>\n",
              "    </tr>\n",
              "    <tr>\n",
              "      <th>3</th>\n",
              "      <td>3</td>\n",
              "      <td>2022-04-26 06:39:46+00:00</td>\n",
              "      <td>@Cricketracker Ki</td>\n",
              "    </tr>\n",
              "    <tr>\n",
              "      <th>4</th>\n",
              "      <td>4</td>\n",
              "      <td>2022-04-26 06:39:46+00:00</td>\n",
              "      <td>@N_BN_Trader no</td>\n",
              "    </tr>\n",
              "    <tr>\n",
              "      <th>5</th>\n",
              "      <td>5</td>\n",
              "      <td>2022-04-26 06:39:46+00:00</td>\n",
              "      <td>New Electric Car Coming to India, Will Launch ...</td>\n",
              "    </tr>\n",
              "    <tr>\n",
              "      <th>6</th>\n",
              "      <td>6</td>\n",
              "      <td>2022-04-26 06:39:46+00:00</td>\n",
              "      <td>@arpiturfrnd To ensure that your Flipkart acco...</td>\n",
              "    </tr>\n",
              "    <tr>\n",
              "      <th>7</th>\n",
              "      <td>7</td>\n",
              "      <td>2022-04-26 06:39:45+00:00</td>\n",
              "      <td>@anejaraaj @Mansi94893004 @Mahanaatma1 @nishac...</td>\n",
              "    </tr>\n",
              "    <tr>\n",
              "      <th>8</th>\n",
              "      <td>8</td>\n",
              "      <td>2022-04-26 06:39:45+00:00</td>\n",
              "      <td>@Fitoor_E_Meraki Good afternoon🌹😊 Happy day 😊</td>\n",
              "    </tr>\n",
              "    <tr>\n",
              "      <th>9</th>\n",
              "      <td>9</td>\n",
              "      <td>2022-04-26 06:39:45+00:00</td>\n",
              "      <td>@DrishtiVideos Either B or D.\\n' D ' in the se...</td>\n",
              "    </tr>\n",
              "    <tr>\n",
              "      <th>10</th>\n",
              "      <td>10</td>\n",
              "      <td>2022-04-26 06:39:45+00:00</td>\n",
              "      <td>@samarrkf Not watched yet. Always some work ca...</td>\n",
              "    </tr>\n",
              "    <tr>\n",
              "      <th>11</th>\n",
              "      <td>11</td>\n",
              "      <td>2022-04-26 06:39:45+00:00</td>\n",
              "      <td>Screaming https://t.co/RQlQekDlC7</td>\n",
              "    </tr>\n",
              "    <tr>\n",
              "      <th>12</th>\n",
              "      <td>12</td>\n",
              "      <td>2022-04-26 06:39:45+00:00</td>\n",
              "      <td>@akhilsarthak17 Ni game super...gamer Ani voor...</td>\n",
              "    </tr>\n",
              "    <tr>\n",
              "      <th>13</th>\n",
              "      <td>13</td>\n",
              "      <td>2022-04-26 06:39:45+00:00</td>\n",
              "      <td>Dear @elonmusk ... heard that you bought #Twit...</td>\n",
              "    </tr>\n",
              "    <tr>\n",
              "      <th>14</th>\n",
              "      <td>14</td>\n",
              "      <td>2022-04-26 06:39:45+00:00</td>\n",
              "      <td>@Cindyboiii Bernese mountain dog anta..image s...</td>\n",
              "    </tr>\n",
              "    <tr>\n",
              "      <th>15</th>\n",
              "      <td>15</td>\n",
              "      <td>2022-04-26 06:39:45+00:00</td>\n",
              "      <td>@SugamSudrjaaa Teri baat Kyu maanu mein🙄😂😂</td>\n",
              "    </tr>\n",
              "    <tr>\n",
              "      <th>16</th>\n",
              "      <td>16</td>\n",
              "      <td>2022-04-26 06:39:45+00:00</td>\n",
              "      <td>Teju liked 😭❣️\\n#TejasswiPrakash\\n#TejaTroops\\...</td>\n",
              "    </tr>\n",
              "    <tr>\n",
              "      <th>17</th>\n",
              "      <td>17</td>\n",
              "      <td>2022-04-26 06:39:45+00:00</td>\n",
              "      <td>@flamingo1712_ Veturi ARR 💯💉</td>\n",
              "    </tr>\n",
              "    <tr>\n",
              "      <th>18</th>\n",
              "      <td>18</td>\n",
              "      <td>2022-04-26 06:39:45+00:00</td>\n",
              "      <td>#OralCancer affects the insides of the mouth a...</td>\n",
              "    </tr>\n",
              "    <tr>\n",
              "      <th>19</th>\n",
              "      <td>19</td>\n",
              "      <td>2022-04-26 06:39:45+00:00</td>\n",
              "      <td>https://t.co/XUZThZ2nbN</td>\n",
              "    </tr>\n",
              "    <tr>\n",
              "      <th>20</th>\n",
              "      <td>20</td>\n",
              "      <td>2022-04-26 06:39:45+00:00</td>\n",
              "      <td>@PeterSweden7 #TrueIndology #bhardwajspeaks</td>\n",
              "    </tr>\n",
              "    <tr>\n",
              "      <th>21</th>\n",
              "      <td>21</td>\n",
              "      <td>2022-04-26 06:39:44+00:00</td>\n",
              "      <td>SIM swapping is when a hacker convinces your c...</td>\n",
              "    </tr>\n",
              "    <tr>\n",
              "      <th>22</th>\n",
              "      <td>22</td>\n",
              "      <td>2022-04-26 06:39:44+00:00</td>\n",
              "      <td>@Alpjivi @CTD1051 @_Ans_hu__\\n @_Setuku_2 @197...</td>\n",
              "    </tr>\n",
              "    <tr>\n",
              "      <th>23</th>\n",
              "      <td>23</td>\n",
              "      <td>2022-04-26 06:39:44+00:00</td>\n",
              "      <td>@SushantBSinha Matlb aaj se 8:55 pe jeher dalo...</td>\n",
              "    </tr>\n",
              "    <tr>\n",
              "      <th>24</th>\n",
              "      <td>24</td>\n",
              "      <td>2022-04-26 06:39:44+00:00</td>\n",
              "      <td>@anuraagmuskaan M F ka pure 7 puste...🤣 with t...</td>\n",
              "    </tr>\n",
              "    <tr>\n",
              "      <th>25</th>\n",
              "      <td>25</td>\n",
              "      <td>2022-04-26 06:39:44+00:00</td>\n",
              "      <td>@cric_blog 🦆 https://t.co/ZXpvduyQXZ</td>\n",
              "    </tr>\n",
              "    <tr>\n",
              "      <th>26</th>\n",
              "      <td>26</td>\n",
              "      <td>2022-04-26 06:39:44+00:00</td>\n",
              "      <td>The legendary banana incident 💀 https://t.co/Y...</td>\n",
              "    </tr>\n",
              "    <tr>\n",
              "      <th>27</th>\n",
              "      <td>27</td>\n",
              "      <td>2022-04-26 06:39:44+00:00</td>\n",
              "      <td>Why should a man suffer having God within hims...</td>\n",
              "    </tr>\n",
              "    <tr>\n",
              "      <th>28</th>\n",
              "      <td>28</td>\n",
              "      <td>2022-04-26 06:39:44+00:00</td>\n",
              "      <td>@ShrirangaPV @Idlisambhar11 😝😂</td>\n",
              "    </tr>\n",
              "    <tr>\n",
              "      <th>29</th>\n",
              "      <td>29</td>\n",
              "      <td>2022-04-26 06:39:43+00:00</td>\n",
              "      <td>जय बजरंगवली https://t.co/I5PVSPUqmT</td>\n",
              "    </tr>\n",
              "    <tr>\n",
              "      <th>30</th>\n",
              "      <td>30</td>\n",
              "      <td>2022-04-26 06:39:43+00:00</td>\n",
              "      <td>@hiyer I'll join you!</td>\n",
              "    </tr>\n",
              "    <tr>\n",
              "      <th>31</th>\n",
              "      <td>31</td>\n",
              "      <td>2022-04-26 06:39:43+00:00</td>\n",
              "      <td>➡️तीनों मृतकों में दो लोग एक परिवार के बताए गए...</td>\n",
              "    </tr>\n",
              "    <tr>\n",
              "      <th>32</th>\n",
              "      <td>32</td>\n",
              "      <td>2022-04-26 06:39:43+00:00</td>\n",
              "      <td>I want to wear her initial on a chain round my...</td>\n",
              "    </tr>\n",
              "    <tr>\n",
              "      <th>33</th>\n",
              "      <td>33</td>\n",
              "      <td>2022-04-26 06:39:43+00:00</td>\n",
              "      <td>@iashishranjann Thanks 🤗</td>\n",
              "    </tr>\n",
              "    <tr>\n",
              "      <th>34</th>\n",
              "      <td>34</td>\n",
              "      <td>2022-04-26 06:39:43+00:00</td>\n",
              "      <td>@BalaNandgaonkar @CMOMaharashtra @TV9Marathi @...</td>\n",
              "    </tr>\n",
              "    <tr>\n",
              "      <th>35</th>\n",
              "      <td>35</td>\n",
              "      <td>2022-04-26 06:39:43+00:00</td>\n",
              "      <td>@sannibhism Waah 🔥</td>\n",
              "    </tr>\n",
              "    <tr>\n",
              "      <th>36</th>\n",
              "      <td>36</td>\n",
              "      <td>2022-04-26 06:39:43+00:00</td>\n",
              "      <td>@AlluArjun \\n#Family 🖤 https://t.co/pW0xgBeJgd</td>\n",
              "    </tr>\n",
              "    <tr>\n",
              "      <th>37</th>\n",
              "      <td>37</td>\n",
              "      <td>2022-04-26 06:39:43+00:00</td>\n",
              "      <td>@tanvishukla One can live double character for...</td>\n",
              "    </tr>\n",
              "    <tr>\n",
              "      <th>38</th>\n",
              "      <td>38</td>\n",
              "      <td>2022-04-26 06:39:43+00:00</td>\n",
              "      <td>AAFT Online provides an unmatched space for yo...</td>\n",
              "    </tr>\n",
              "    <tr>\n",
              "      <th>39</th>\n",
              "      <td>39</td>\n",
              "      <td>2022-04-26 06:39:43+00:00</td>\n",
              "      <td>@MISbangtann #.roromochi</td>\n",
              "    </tr>\n",
              "    <tr>\n",
              "      <th>40</th>\n",
              "      <td>40</td>\n",
              "      <td>2022-04-26 06:39:43+00:00</td>\n",
              "      <td>@ZenjinViperz @nearly @saiedabdalmoty @CCNistr...</td>\n",
              "    </tr>\n",
              "    <tr>\n",
              "      <th>41</th>\n",
              "      <td>41</td>\n",
              "      <td>2022-04-26 06:39:42+00:00</td>\n",
              "      <td>ગાંધીનગરને મળી શકે છે પોલીસ કમિશનર\\nસોલા,સાબરમ...</td>\n",
              "    </tr>\n",
              "    <tr>\n",
              "      <th>42</th>\n",
              "      <td>42</td>\n",
              "      <td>2022-04-26 06:39:42+00:00</td>\n",
              "      <td>#Budaun: मुजरिया थाना क्षेत्र में दर्दनाक सड़क...</td>\n",
              "    </tr>\n",
              "    <tr>\n",
              "      <th>43</th>\n",
              "      <td>43</td>\n",
              "      <td>2022-04-26 06:39:42+00:00</td>\n",
              "      <td>@SunilYadavBJP @The_Pinakee Raat ko kutte bhow...</td>\n",
              "    </tr>\n",
              "    <tr>\n",
              "      <th>44</th>\n",
              "      <td>44</td>\n",
              "      <td>2022-04-26 06:39:42+00:00</td>\n",
              "      <td>@PastellPeeps 👀</td>\n",
              "    </tr>\n",
              "    <tr>\n",
              "      <th>45</th>\n",
              "      <td>45</td>\n",
              "      <td>2022-04-26 06:39:42+00:00</td>\n",
              "      <td>Figuring out next steps to turning your passio...</td>\n",
              "    </tr>\n",
              "    <tr>\n",
              "      <th>46</th>\n",
              "      <td>46</td>\n",
              "      <td>2022-04-26 06:39:42+00:00</td>\n",
              "      <td>@ashishdave You are not even adding Like and S...</td>\n",
              "    </tr>\n",
              "    <tr>\n",
              "      <th>47</th>\n",
              "      <td>47</td>\n",
              "      <td>2022-04-26 06:39:42+00:00</td>\n",
              "      <td>@satyakumar_y Central govt need to take decisi...</td>\n",
              "    </tr>\n",
              "    <tr>\n",
              "      <th>48</th>\n",
              "      <td>48</td>\n",
              "      <td>2022-04-26 06:39:42+00:00</td>\n",
              "      <td>@Iyervval Why does this cartoon remind me of V...</td>\n",
              "    </tr>\n",
              "    <tr>\n",
              "      <th>49</th>\n",
              "      <td>49</td>\n",
              "      <td>2022-04-26 06:39:42+00:00</td>\n",
              "      <td>@eurydicelives Such a low bar for women to be ...</td>\n",
              "    </tr>\n",
              "  </tbody>\n",
              "</table>\n",
              "</div>\n",
              "      <button class=\"colab-df-convert\" onclick=\"convertToInteractive('df-f6c899e3-c108-4df3-9fb7-1cea13935bdb')\"\n",
              "              title=\"Convert this dataframe to an interactive table.\"\n",
              "              style=\"display:none;\">\n",
              "        \n",
              "  <svg xmlns=\"http://www.w3.org/2000/svg\" height=\"24px\"viewBox=\"0 0 24 24\"\n",
              "       width=\"24px\">\n",
              "    <path d=\"M0 0h24v24H0V0z\" fill=\"none\"/>\n",
              "    <path d=\"M18.56 5.44l.94 2.06.94-2.06 2.06-.94-2.06-.94-.94-2.06-.94 2.06-2.06.94zm-11 1L8.5 8.5l.94-2.06 2.06-.94-2.06-.94L8.5 2.5l-.94 2.06-2.06.94zm10 10l.94 2.06.94-2.06 2.06-.94-2.06-.94-.94-2.06-.94 2.06-2.06.94z\"/><path d=\"M17.41 7.96l-1.37-1.37c-.4-.4-.92-.59-1.43-.59-.52 0-1.04.2-1.43.59L10.3 9.45l-7.72 7.72c-.78.78-.78 2.05 0 2.83L4 21.41c.39.39.9.59 1.41.59.51 0 1.02-.2 1.41-.59l7.78-7.78 2.81-2.81c.8-.78.8-2.07 0-2.86zM5.41 20L4 18.59l7.72-7.72 1.47 1.35L5.41 20z\"/>\n",
              "  </svg>\n",
              "      </button>\n",
              "      \n",
              "  <style>\n",
              "    .colab-df-container {\n",
              "      display:flex;\n",
              "      flex-wrap:wrap;\n",
              "      gap: 12px;\n",
              "    }\n",
              "\n",
              "    .colab-df-convert {\n",
              "      background-color: #E8F0FE;\n",
              "      border: none;\n",
              "      border-radius: 50%;\n",
              "      cursor: pointer;\n",
              "      display: none;\n",
              "      fill: #1967D2;\n",
              "      height: 32px;\n",
              "      padding: 0 0 0 0;\n",
              "      width: 32px;\n",
              "    }\n",
              "\n",
              "    .colab-df-convert:hover {\n",
              "      background-color: #E2EBFA;\n",
              "      box-shadow: 0px 1px 2px rgba(60, 64, 67, 0.3), 0px 1px 3px 1px rgba(60, 64, 67, 0.15);\n",
              "      fill: #174EA6;\n",
              "    }\n",
              "\n",
              "    [theme=dark] .colab-df-convert {\n",
              "      background-color: #3B4455;\n",
              "      fill: #D2E3FC;\n",
              "    }\n",
              "\n",
              "    [theme=dark] .colab-df-convert:hover {\n",
              "      background-color: #434B5C;\n",
              "      box-shadow: 0px 1px 3px 1px rgba(0, 0, 0, 0.15);\n",
              "      filter: drop-shadow(0px 1px 2px rgba(0, 0, 0, 0.3));\n",
              "      fill: #FFFFFF;\n",
              "    }\n",
              "  </style>\n",
              "\n",
              "      <script>\n",
              "        const buttonEl =\n",
              "          document.querySelector('#df-f6c899e3-c108-4df3-9fb7-1cea13935bdb button.colab-df-convert');\n",
              "        buttonEl.style.display =\n",
              "          google.colab.kernel.accessAllowed ? 'block' : 'none';\n",
              "\n",
              "        async function convertToInteractive(key) {\n",
              "          const element = document.querySelector('#df-f6c899e3-c108-4df3-9fb7-1cea13935bdb');\n",
              "          const dataTable =\n",
              "            await google.colab.kernel.invokeFunction('convertToInteractive',\n",
              "                                                     [key], {});\n",
              "          if (!dataTable) return;\n",
              "\n",
              "          const docLinkHtml = 'Like what you see? Visit the ' +\n",
              "            '<a target=\"_blank\" href=https://colab.research.google.com/notebooks/data_table.ipynb>data table notebook</a>'\n",
              "            + ' to learn more about interactive tables.';\n",
              "          element.innerHTML = '';\n",
              "          dataTable['output_type'] = 'display_data';\n",
              "          await google.colab.output.renderOutput(dataTable, element);\n",
              "          const docLink = document.createElement('div');\n",
              "          docLink.innerHTML = docLinkHtml;\n",
              "          element.appendChild(docLink);\n",
              "        }\n",
              "      </script>\n",
              "    </div>\n",
              "  </div>\n",
              "  "
            ]
          },
          "metadata": {},
          "execution_count": 32
        }
      ]
    },
    {
      "cell_type": "markdown",
      "source": [
        "# Processing all the Tweets"
      ],
      "metadata": {
        "id": "YbstTXpShiBf"
      }
    },
    {
      "cell_type": "code",
      "source": [
        "content = df['content']\n",
        "content "
      ],
      "metadata": {
        "colab": {
          "base_uri": "https://localhost:8080/"
        },
        "id": "RjutG20Pd0WU",
        "outputId": "2e1e55d1-f4c8-473a-e8bb-88d49f05fdb3"
      },
      "execution_count": null,
      "outputs": [
        {
          "output_type": "execute_result",
          "data": {
            "text/plain": [
              "0     @RohilChaturvedi We are still waiting for your...\n",
              "1     This is the most comprehensive and factual rep...\n",
              "2     @shosrnagar your work good but why are you men...\n",
              "3                                     @Cricketracker Ki\n",
              "4                                       @N_BN_Trader no\n",
              "5     New Electric Car Coming to India, Will Launch ...\n",
              "6     @arpiturfrnd To ensure that your Flipkart acco...\n",
              "7     @anejaraaj @Mansi94893004 @Mahanaatma1 @nishac...\n",
              "8         @Fitoor_E_Meraki Good afternoon🌹😊 Happy day 😊\n",
              "9     @DrishtiVideos Either B or D.\\n' D ' in the se...\n",
              "10    @samarrkf Not watched yet. Always some work ca...\n",
              "11                    Screaming https://t.co/RQlQekDlC7\n",
              "12    @akhilsarthak17 Ni game super...gamer Ani voor...\n",
              "13    Dear @elonmusk ... heard that you bought #Twit...\n",
              "14    @Cindyboiii Bernese mountain dog anta..image s...\n",
              "15           @SugamSudrjaaa Teri baat Kyu maanu mein🙄😂😂\n",
              "16    Teju liked 😭❣️\\n#TejasswiPrakash\\n#TejaTroops\\...\n",
              "17                         @flamingo1712_ Veturi ARR 💯💉\n",
              "18    #OralCancer affects the insides of the mouth a...\n",
              "19                              https://t.co/XUZThZ2nbN\n",
              "20          @PeterSweden7 #TrueIndology #bhardwajspeaks\n",
              "21    SIM swapping is when a hacker convinces your c...\n",
              "22    @Alpjivi @CTD1051 @_Ans_hu__\\n @_Setuku_2 @197...\n",
              "23    @SushantBSinha Matlb aaj se 8:55 pe jeher dalo...\n",
              "24    @anuraagmuskaan M F ka pure 7 puste...🤣 with t...\n",
              "25                 @cric_blog 🦆 https://t.co/ZXpvduyQXZ\n",
              "26    The legendary banana incident 💀 https://t.co/Y...\n",
              "27    Why should a man suffer having God within hims...\n",
              "28                       @ShrirangaPV @Idlisambhar11 😝😂\n",
              "29                  जय बजरंगवली https://t.co/I5PVSPUqmT\n",
              "30                                @hiyer I'll join you!\n",
              "31    ➡️तीनों मृतकों में दो लोग एक परिवार के बताए गए...\n",
              "32    I want to wear her initial on a chain round my...\n",
              "33                             @iashishranjann Thanks 🤗\n",
              "34    @BalaNandgaonkar @CMOMaharashtra @TV9Marathi @...\n",
              "35                                   @sannibhism Waah 🔥\n",
              "36       @AlluArjun \\n#Family 🖤 https://t.co/pW0xgBeJgd\n",
              "37    @tanvishukla One can live double character for...\n",
              "38    AAFT Online provides an unmatched space for yo...\n",
              "39                             @MISbangtann #.roromochi\n",
              "40    @ZenjinViperz @nearly @saiedabdalmoty @CCNistr...\n",
              "41    ગાંધીનગરને મળી શકે છે પોલીસ કમિશનર\\nસોલા,સાબરમ...\n",
              "42    #Budaun: मुजरिया थाना क्षेत्र में दर्दनाक सड़क...\n",
              "43    @SunilYadavBJP @The_Pinakee Raat ko kutte bhow...\n",
              "44                                      @PastellPeeps 👀\n",
              "45    Figuring out next steps to turning your passio...\n",
              "46    @ashishdave You are not even adding Like and S...\n",
              "47    @satyakumar_y Central govt need to take decisi...\n",
              "48    @Iyervval Why does this cartoon remind me of V...\n",
              "49    @eurydicelives Such a low bar for women to be ...\n",
              "Name: content, dtype: object"
            ]
          },
          "metadata": {},
          "execution_count": 33
        }
      ]
    },
    {
      "cell_type": "code",
      "source": [
        "tokens = []\n",
        "for tweet in content:\n",
        "    tokens.append(pre_processing(tweet))"
      ],
      "metadata": {
        "colab": {
          "base_uri": "https://localhost:8080/"
        },
        "id": "fjOaRQyCeX43",
        "outputId": "a80d4a35-a386-41dd-a16a-cd5525e58da1"
      },
      "execution_count": null,
      "outputs": [
        {
          "output_type": "stream",
          "name": "stdout",
          "text": [
            "['rohilchaturvedi', 'we', 'are', 'still', 'waiting', 'for', 'your', 'response', 'please', 'write', 'america', 'at', 'camericatomerservicensdlcoin', 'our', 'team', 'will', 'be', 'happy', 'to', 'help', 'you']\n",
            "['this', 'is', 'the', 'most', 'comprehensive', 'and', 'factual', 'report', 'on', 'bjp', 'rss', 'ihave', 'seen', 'on', 'american', 'tv', 'great', 'job', 'mehdi', 'hasan']\n",
            "['shosrnagar', 'your', 'work', 'good', 'but', 'why', 'are', 'you', 'mentioned', 'them', 'as', 'a', 'beggar', 'family']\n",
            "['cricketracker', 'ki']\n",
            "['nbntrader', 'no']\n",
            "['new', 'electric', 'car', 'coming', 'to', 'india', 'will', 'launch', 'within']\n",
            "['arpiturfrnd', 'to', 'ensure', 'that', 'your', 'flipkart', 'account', 'information', 'is', 'safe', 'please', 'start', 'a', 'private', 'chat', 'with', 'america', 'by', 'clicking', 'the', 'below', 'link', 'sf']\n",
            "['and', 'jaraj', 'mansi', 'the', 'greatest', 'nishachauh', 'poetrian', 'blueheart', 'laghutak', 'noamericahal', 'alam', 'shahzadshahi', 'shwetapatva']\n",
            "['fitooremeraki', 'good', 'afternoon', 'happy', 'day']\n",
            "['drishtivideos', 'either', 'b', 'or', 'd', 'd', 'in', 'the', 'sense', 'that', 'the', 'values', 'and', 'ideas', 'of', 'socialism', 'and', 'secularism', 'are', 'present', 'there', 'in', 'the', 'constitution', 'from', 'the', 'day', 'only', 'mere', 'words', 'are', 'inserted', 'in', 'indira', 'gandhi', 'perit', 'that', 'too', 'in', 'preamble']\n",
            "['samarrkf', 'not', 'watched', 'yet', 'always', 'some', 'work', 'came', 'up', 'now', 'its', 'not', 'showing', 'in', 'any', 'theatres', 'near', 'me']\n",
            "['screaming']\n",
            "['akhilasarthak', 'is', 'not', 'jamericat', 'called', 'game', 'supergamer', 'always', 'perfect', 'points', 'about', 'analysis', 'awesome', 'bigg', 'boss', 'non', 'stop']\n",
            "['dear', 'elonmamericak', 'heard', 'that', 'you', 'bought', 'twitter', 'so', 'that', 'there', 'will', 'be', 'a', 'revolutionary', 'change', 'in', 'twitter', 'first', 'of', 'all', 'close', 'the', 'fake', 'account', 'massive', 'reforms', 'for', 'freedom', 'of', 'expression', 'do', 'not', 'let', 'the', 'government', 'of', 'any', 'country', 'make', 'twitter', 'the', 'den', 'of', 'their', 'dictatorship']\n",
            "['cindyboy', 'burns', 'mountain', 'dog', 'finally', 'shows', 'up', 'in', 'search']\n",
            "['sugamsundarja', 'teri', 'baat', 'kyu', 'maanu', 'main']\n",
            "['teju', 'liked', 'tejasswi', 'prakash', 'teja', 'troops', 'fast', 'run']\n",
            "['flamingo', 'veturi', 'arr']\n",
            "['oral', 'cancer', 'affects', 'the', 'insides', 'of', 'the', 'mouth', 'and', 'the', 'back', 'of', 'the', 'throat', 'it', 'can', 'develop', 'on', 'the', 'tongue', 'the', 'tissue', 'lining', 'the', 'mouth', 'and', 'gums', 'under', 'the', 'tongue', 'at', 'the', 'base', 'of', 'the', 'tongue', 'and', 'the', 'area', 'of', 'the', 'throat', 'at', 'the', 'back', 'of', 'the', 'mouth', 'ohanc', 'cancer', 'knowledge']\n",
            "['']\n",
            "['petersweden', 'true', 'indology']\n",
            "['sim', 'swapping', 'is', 'when', 'a', 'hacker', 'convinces', 'your', 'cell', 'phone', 'carrier', 'to', 'switch', 'your', 'phone', 'number', 'to', 'a', 'different', 'simone', 'that', 'they', 'own']\n",
            "['alpjivi', 'ctd', 'anshu', 'setenglandu', 'dharmendra', 'seeing', 'dm', 'come', 'and', 'threaten', 'to', 'fly', 'eyes;']\n",
            "['samericahantab', 'singh', 'means', 'from', 'today', 'you', 'will', 'put', 'jeher', 'in', 'the', 'country']\n",
            "['anuraagmamericakaan', 'm', 'f', 'ka', 'pure', 'pamericate', 'with', 'their', 'clothes']\n",
            "['cricblog']\n",
            "['the', 'legendary', 'banana', 'incident']\n",
            "['why', 'should', 'a', 'man', 'suffer', 'haveing', 'god', 'within', 'himself', 'and', 'what', 'is', 'the', 'value', 'of', 'oneself', 'if', 'he', 'keeps', 'suffering', 'maharishi', 'mahesh', 'yogi']\n",
            "['srirangparv', 'dilsambhar']\n",
            "['jai', 'bajgarwal']\n",
            "['hiyer', 'iwill', 'join', 'you']\n",
            "['breaking', 'news', 'niwantimes', 'ind']\n",
            "['i', 'want', 'to', 'wear', 'her', 'initial', 'on', 'a', 'chain', 'round', 'my', 'neck', 'chain', 'round', 'my', 'neck', 'not', 'becaamericae', 'she', 'knows', 'me', 'but', 'caamericae', 'she', 'really', 'owns', 'me', 'which', 'is', 'more', 'than', 'they', 'can', 'say', 'ha', 'ha', 'ha', 'haa', 'ha', 'ha', 'ha', 'haa', 'ha', 'ha', 'ha', 'haa', 'haa']\n",
            "['iashishranjann', 'thanks']\n",
            "['balanandgaonkar', 'cmomaharashtra', 'tv', 'marathi', 'saamtvnews', 'zee', 'taas', 'news', 'mach', 'shan']\n",
            "['sanbhasma', 'wow']\n",
            "['arjun', 'family']\n",
            "['tanvishenglandla', 'one', 'can', 'live', 'double', 'character', 'for', 'his', 'livelihood', 'but', 'he', 'cant', 'survive', 'long', 'by', 'ditching', 'himself']\n",
            "['aaft', 'online', 'provides', 'an', 'unmatched', 'space', 'for', 'you', 'grow', 'as', 'a', 'professional', 'in', 'your', 'dream', 'career', 'path', 'take', 'your', 'first', 'step', 'to', 'achieving', 'your', 'goals', 'today', 'register', 'with', 'america', 'from', 'the', 'link', 'in', 'our', 'bio']\n",
            "['misbangtann']\n",
            "['zenjinviperz', 'nearly', 'saiedabdalmoty', 'ccnistru', 'rhinosmeta']\n",
            "['gadhanagaran', 'will', 'be', 'able', 'to', 'go', 'to', 'the', 'pulse', 'commissioner', 'salsabarmatchadkhad', 'post.', 'gadhanagaram', 'ig', 'will', 'not', 'be', 'promoted.']\n",
            "['budaun', 'media', 'station', 'in', 'kashtar,', 'a', 'palace', 'and', 'a', 'mass', 'of', 'people', 'turned', 'around', 'in', 'the', 'city', 'of', 'budaunpolice.']\n",
            "['sunilyadavbjp', 'thepinki', 'dogs', 'bark', 'at', 'night', 'and', 'in', 'the', 'morning', 'these', 'people']\n",
            "['pastellpeeps']\n",
            "['figuring', 'out', 'next', 'steps', 'to', 'turning', 'your', 'passions', 'into', 'your', 'future', 'career', 'dont', 'stress', 'it', 'become', 'market', 'ready', 'as', 'you', 'learn', 'under', 'experts', 'with', 'years', 'of', 'experience', 'and', 'after', 'completing', 'a', 'course', 'with', 'america', 'youll', 'havee', 'the', 'opportunity', 'to', 'take', 'part', 'in', 'oneofakind', 'placement', 'drives']\n",
            "['ashishdave', 'you', 'are', 'not', 'even', 'adding', 'like', 'and', 'subscribe', 'for', 'more', 'posts', 'like', 'this']\n",
            "['satyakumary', 'central', 'govt', 'need', 'to', 'take', 'decision', 'on', 'this', 'urgently', 'state', 'govt', 'is', 'bamericay', 'in', 'appeasement', 'politicomputer', 'science', 'only', 'once', 'the', 'hindu', 'community', 'lose', 'patience', 'then', 'it', 'will', 'be', 'hard', 'to', 'control', 'the', 'violence']\n",
            "['iyervval', 'why', 'does', 'this', 'cartoon', 'remind', 'me', 'of', 'vk', 'krishna', 'menon']\n",
            "['eurydicelives', 'such', 'a', 'low', 'bar', 'for', 'women', 'to', 'be', 'called', 'crazy']\n"
          ]
        }
      ]
    },
    {
      "cell_type": "markdown",
      "source": [
        "# Creating Dictionary Object"
      ],
      "metadata": {
        "id": "g3u2NLWeRvAR"
      }
    },
    {
      "cell_type": "code",
      "source": [
        "dictionary = corpora.Dictionary(tokens)\n",
        "print(dictionary)\n",
        "print(dictionary.num_docs)"
      ],
      "metadata": {
        "colab": {
          "base_uri": "https://localhost:8080/"
        },
        "id": "GCiUaZPHQ_u6",
        "outputId": "8a1ae5f0-9ec8-484e-a53a-2e405088b2e5"
      },
      "execution_count": null,
      "outputs": [
        {
          "output_type": "stream",
          "name": "stdout",
          "text": [
            "Dictionary(361 unique tokens: ['america', 'camericatomerservicensdlcoin', 'happi', 'help', 'pleas']...)\n",
            "50\n"
          ]
        }
      ]
    },
    {
      "cell_type": "markdown",
      "source": [
        "# Term Frequency"
      ],
      "metadata": {
        "id": "teQmmg2eSCXk"
      }
    },
    {
      "cell_type": "code",
      "source": [
        "corpus_doc2bow_vectors = [dictionary.doc2bow(tok_doc) for tok_doc in tokens]\n",
        "print(\"# Term Frequency : \")\n",
        "corpus_doc2bow_vectors[:5]"
      ],
      "metadata": {
        "colab": {
          "base_uri": "https://localhost:8080/"
        },
        "id": "UMnpQTIMR96X",
        "outputId": "0abf6d09-9d63-4303-a87c-0c21ac7fbb57"
      },
      "execution_count": null,
      "outputs": [
        {
          "output_type": "stream",
          "name": "stdout",
          "text": [
            "# Term Frequency : \n"
          ]
        },
        {
          "output_type": "execute_result",
          "data": {
            "text/plain": [
              "[[(0, 1),\n",
              "  (1, 1),\n",
              "  (2, 1),\n",
              "  (3, 1),\n",
              "  (4, 1),\n",
              "  (5, 1),\n",
              "  (6, 1),\n",
              "  (7, 1),\n",
              "  (8, 1),\n",
              "  (9, 1),\n",
              "  (10, 1)],\n",
              " [(11, 1),\n",
              "  (12, 1),\n",
              "  (13, 1),\n",
              "  (14, 1),\n",
              "  (15, 1),\n",
              "  (16, 1),\n",
              "  (17, 1),\n",
              "  (18, 1),\n",
              "  (19, 1),\n",
              "  (20, 1),\n",
              "  (21, 1),\n",
              "  (22, 1),\n",
              "  (23, 1)],\n",
              " [(24, 1), (25, 1), (26, 1), (27, 1), (28, 1), (29, 1)],\n",
              " [(30, 1), (31, 1)],\n",
              " [(32, 1)]]"
            ]
          },
          "metadata": {},
          "execution_count": 36
        }
      ]
    },
    {
      "cell_type": "markdown",
      "source": [
        "# TF-IDF"
      ],
      "metadata": {
        "id": "ej9oxvCiSKVr"
      }
    },
    {
      "cell_type": "code",
      "source": [
        "tfidf_model = models.TfidfModel(corpus_doc2bow_vectors, id2word=dictionary, normalize=False)\n",
        "corpus_tfidf_vectors = tfidf_model[corpus_doc2bow_vectors]\n",
        "\n",
        "print(\"\\n# TF_IDF: \")\n",
        "print(corpus_tfidf_vectors[5])"
      ],
      "metadata": {
        "colab": {
          "base_uri": "https://localhost:8080/"
        },
        "id": "39537JXcSHXK",
        "outputId": "8e3bbb86-5269-4a6e-c724-0d84eb3011d3"
      },
      "execution_count": null,
      "outputs": [
        {
          "output_type": "stream",
          "name": "stdout",
          "text": [
            "\n",
            "# TF_IDF: \n",
            "[(33, 5.643856189774724), (34, 4.643856189774724), (35, 5.643856189774724), (36, 5.643856189774724), (37, 5.643856189774724), (38, 5.643856189774724), (39, 4.643856189774724)]\n"
          ]
        }
      ]
    },
    {
      "cell_type": "markdown",
      "source": [
        "# Running LDA using Bag of Words"
      ],
      "metadata": {
        "id": "U-p6YISQSRm6"
      }
    },
    {
      "cell_type": "code",
      "source": [
        "lda_model = gensim.models.LdaMulticore(corpus_doc2bow_vectors, num_topics=10, id2word=dictionary, passes=2, workers=2)"
      ],
      "metadata": {
        "id": "-vrshdLGSOv0"
      },
      "execution_count": null,
      "outputs": []
    },
    {
      "cell_type": "markdown",
      "source": [
        "For each topic, we will explore the words occuring in that topic and its relative weight."
      ],
      "metadata": {
        "id": "MipDmPkISYCC"
      }
    },
    {
      "cell_type": "code",
      "source": [
        "for idx, topic in lda_model.print_topics(-1):\n",
        "    print('Topic: {} \\nWords: {}'.format(idx, topic))"
      ],
      "metadata": {
        "colab": {
          "base_uri": "https://localhost:8080/"
        },
        "id": "2fXcAyQhSWDq",
        "outputId": "22ebdf8e-7178-4ced-b2e6-8f5cb06be179"
      },
      "execution_count": null,
      "outputs": [
        {
          "output_type": "stream",
          "name": "stdout",
          "text": [
            "Topic: 0 \n",
            "Words: 0.048*\"like\" + 0.017*\"come\" + 0.017*\"alpjivi\" + 0.017*\"eye\" + 0.017*\"troop\" + 0.017*\"see\" + 0.017*\"ctd\" + 0.017*\"dharmendra\" + 0.017*\"dm\" + 0.017*\"setenglandu\"\n",
            "Topic: 1 \n",
            "Words: 0.022*\"suffer\" + 0.021*\"valu\" + 0.011*\"happi\" + 0.011*\"keep\" + 0.011*\"god\" + 0.011*\"camericatomerservicensdlcoin\" + 0.011*\"have\" + 0.011*\"wait\" + 0.011*\"famili\" + 0.011*\"within\"\n",
            "Topic: 2 \n",
            "Words: 0.014*\"greatest\" + 0.014*\"alam\" + 0.014*\"jaraj\" + 0.014*\"blueheart\" + 0.014*\"shahzadshahi\" + 0.014*\"noamericah\" + 0.014*\"mansi\" + 0.014*\"nishachauh\" + 0.014*\"laghutak\" + 0.014*\"shwetapatva\"\n",
            "Topic: 3 \n",
            "Words: 0.015*\"turn\" + 0.015*\"america\" + 0.015*\"career\" + 0.015*\"have\" + 0.015*\"take\" + 0.015*\"passion\" + 0.015*\"dont\" + 0.015*\"learn\" + 0.015*\"cours\" + 0.015*\"futur\"\n",
            "Topic: 4 \n",
            "Words: 0.032*\"govt\" + 0.017*\"bajgarw\" + 0.017*\"sanbhasma\" + 0.017*\"jai\" + 0.017*\"srirangparv\" + 0.017*\"wow\" + 0.017*\"dilsambhar\" + 0.017*\"misbangtann\" + 0.017*\"hindu\" + 0.017*\"lose\"\n",
            "Topic: 5 \n",
            "Words: 0.018*\"work\" + 0.018*\"america\" + 0.018*\"pleas\" + 0.018*\"show\" + 0.018*\"link\" + 0.018*\"start\" + 0.018*\"flipkart\" + 0.018*\"account\" + 0.018*\"click\" + 0.018*\"privat\"\n",
            "Topic: 6 \n",
            "Words: 0.100*\"ha\" + 0.045*\"haa\" + 0.023*\"chain\" + 0.023*\"neck\" + 0.023*\"round\" + 0.012*\"post\" + 0.012*\"charact\" + 0.012*\"ig\" + 0.012*\"livelihood\" + 0.012*\"promot\"\n",
            "Topic: 7 \n",
            "Words: 0.027*\"twitter\" + 0.026*\"mouth\" + 0.025*\"tongu\" + 0.018*\"countri\" + 0.018*\"phone\" + 0.017*\"cancer\" + 0.017*\"back\" + 0.017*\"throat\" + 0.010*\"first\" + 0.010*\"today\"\n",
            "Topic: 8 \n",
            "Words: 0.016*\"india\" + 0.016*\"within\" + 0.016*\"new\" + 0.016*\"launch\" + 0.016*\"car\" + 0.016*\"come\" + 0.016*\"electr\" + 0.016*\"veturi\" + 0.016*\"flamingo\" + 0.016*\"arr\"\n",
            "Topic: 9 \n",
            "Words: 0.015*\"tv\" + 0.015*\"peopl\" + 0.015*\"job\" + 0.015*\"ihav\" + 0.015*\"report\" + 0.015*\"mehdi\" + 0.015*\"hasan\" + 0.015*\"bjp\" + 0.015*\"american\" + 0.015*\"comprehens\"\n"
          ]
        }
      ]
    },
    {
      "cell_type": "markdown",
      "source": [
        "Distinguish between different topics using the words in each topic and the corresponding weights"
      ],
      "metadata": {
        "id": "3Kbb_7_qSfE_"
      }
    },
    {
      "cell_type": "markdown",
      "source": [
        "# Running LDA using TF-IDF"
      ],
      "metadata": {
        "id": "Hy1PYzVoSlFN"
      }
    },
    {
      "cell_type": "code",
      "source": [
        "lda_model_tfidf = gensim.models.LdaMulticore(corpus_tfidf_vectors, num_topics=10, id2word=dictionary, passes=2, workers=4)\n",
        "for idx, topic in lda_model_tfidf.print_topics(-1):\n",
        "    print('Topic: {} Word: {}'.format(idx, topic))"
      ],
      "metadata": {
        "id": "1WHOZZFGShAc",
        "colab": {
          "base_uri": "https://localhost:8080/"
        },
        "outputId": "8f0a77e5-b2dd-4391-a0eb-e238eb5bb992"
      },
      "execution_count": null,
      "outputs": [
        {
          "output_type": "stream",
          "name": "stdout",
          "text": [
            "Topic: 0 Word: 0.168*\"ha\" + 0.076*\"haa\" + 0.040*\"chain\" + 0.038*\"round\" + 0.038*\"neck\" + 0.023*\"remind\" + 0.023*\"vk\" + 0.023*\"ind\" + 0.023*\"krishna\" + 0.023*\"iyervv\"\n",
            "Topic: 1 Word: 0.028*\"ha\" + 0.023*\"nearli\" + 0.023*\"rhinosmeta\" + 0.023*\"ccnistru\" + 0.023*\"zenjinviperz\" + 0.023*\"saiedabdalmoti\" + 0.023*\"petersweden\" + 0.023*\"indolog\" + 0.023*\"true\" + 0.022*\"noamericah\"\n",
            "Topic: 2 Word: 0.035*\"govt\" + 0.020*\"launch\" + 0.020*\"new\" + 0.020*\"india\" + 0.020*\"car\" + 0.020*\"electr\" + 0.020*\"iwil\" + 0.020*\"hiyer\" + 0.020*\"join\" + 0.019*\"mountain\"\n",
            "Topic: 3 Word: 0.018*\"pastellpeep\" + 0.018*\"point\" + 0.018*\"jamericat\" + 0.018*\"bigg\" + 0.018*\"boss\" + 0.018*\"non\" + 0.018*\"supergam\" + 0.018*\"akhilasarthak\" + 0.018*\"analysi\" + 0.018*\"game\"\n",
            "Topic: 4 Word: 0.046*\"incid\" + 0.046*\"legendari\" + 0.046*\"banana\" + 0.046*\"nbntrader\" + 0.045*\"mass\" + 0.045*\"citi\" + 0.045*\"kashtar\" + 0.045*\"media\" + 0.045*\"budaun\" + 0.045*\"budaunpolic\"\n",
            "Topic: 5 Word: 0.019*\"rohilchaturvedi\" + 0.019*\"still\" + 0.019*\"team\" + 0.019*\"write\" + 0.019*\"wait\" + 0.019*\"help\" + 0.019*\"night\" + 0.019*\"bark\" + 0.019*\"put\" + 0.019*\"samericahantab\"\n",
            "Topic: 6 Word: 0.057*\"mouth\" + 0.056*\"tongu\" + 0.038*\"back\" + 0.037*\"cancer\" + 0.037*\"throat\" + 0.020*\"afternoon\" + 0.020*\"fitooremeraki\" + 0.020*\"arjun\" + 0.020*\"eurydicel\" + 0.020*\"low\"\n",
            "Topic: 7 Word: 0.050*\"phone\" + 0.045*\"like\" + 0.029*\"cricblog\" + 0.029*\"misbangtann\" + 0.027*\"ad\" + 0.027*\"even\" + 0.027*\"ashishdav\" + 0.027*\"subscrib\" + 0.026*\"taa\" + 0.026*\"mach\"\n",
            "Topic: 8 Word: 0.038*\"twitter\" + 0.027*\"suffer\" + 0.021*\"first\" + 0.013*\"maharishi\" + 0.013*\"oneself\" + 0.013*\"mahesh\" + 0.013*\"keep\" + 0.013*\"man\" + 0.013*\"yogi\" + 0.013*\"cloth\"\n",
            "Topic: 9 Word: 0.026*\"veturi\" + 0.026*\"flamingo\" + 0.026*\"arr\" + 0.026*\"dilsambhar\" + 0.026*\"srirangparv\" + 0.026*\"abl\" + 0.026*\"commission\" + 0.026*\"puls\" + 0.026*\"ig\" + 0.026*\"go\"\n"
          ]
        }
      ]
    },
    {
      "cell_type": "markdown",
      "source": [
        "# Classification of the topics\n",
        "Performance evaluation by classifying sample document using LDA Bag of Words model\n",
        "We will check where our test document would be classified."
      ],
      "metadata": {
        "id": "WZ6rCUWWStC-"
      }
    },
    {
      "cell_type": "code",
      "source": [
        "for index, score in sorted(lda_model[corpus_doc2bow_vectors[1]], key=lambda tup: -1*tup[1]):\n",
        "    print(\"\\nScore: {}\\t \\nTopic: {}\".format(score, lda_model.print_topic(index, 10)))"
      ],
      "metadata": {
        "id": "WmK1WojISyNK",
        "colab": {
          "base_uri": "https://localhost:8080/"
        },
        "outputId": "8a5d975c-07cd-47d3-e0eb-8532030151f1"
      },
      "execution_count": null,
      "outputs": [
        {
          "output_type": "stream",
          "name": "stdout",
          "text": [
            "\n",
            "Score: 0.9357141852378845\t \n",
            "Topic: 0.015*\"tv\" + 0.015*\"peopl\" + 0.015*\"job\" + 0.015*\"ihav\" + 0.015*\"report\" + 0.015*\"mehdi\" + 0.015*\"hasan\" + 0.015*\"bjp\" + 0.015*\"american\" + 0.015*\"comprehens\"\n"
          ]
        }
      ]
    },
    {
      "cell_type": "markdown",
      "source": [
        "# Performance evaluation by classifying sample document using LDA TF-IDF model."
      ],
      "metadata": {
        "id": "jH8p4XGkS3zG"
      }
    },
    {
      "cell_type": "code",
      "source": [
        "for index, score in sorted(lda_model_tfidf[corpus_doc2bow_vectors[1]], key=lambda tup: -1*tup[1]):\n",
        "    print(\"\\nScore: {}\\t \\nTopic: {}\".format(score, lda_model_tfidf.print_topic(index, 10)))"
      ],
      "metadata": {
        "id": "oOYYNV7iS514",
        "colab": {
          "base_uri": "https://localhost:8080/"
        },
        "outputId": "7719a484-0210-455d-a65a-29ff835b6d36"
      },
      "execution_count": null,
      "outputs": [
        {
          "output_type": "stream",
          "name": "stdout",
          "text": [
            "\n",
            "Score: 0.9357138872146606\t \n",
            "Topic: 0.018*\"pastellpeep\" + 0.018*\"point\" + 0.018*\"jamericat\" + 0.018*\"bigg\" + 0.018*\"boss\" + 0.018*\"non\" + 0.018*\"supergam\" + 0.018*\"akhilasarthak\" + 0.018*\"analysi\" + 0.018*\"game\"\n"
          ]
        }
      ]
    },
    {
      "cell_type": "code",
      "source": [
        "import matplotlib.pyplot as plt\n",
        "import matplotlib.image as mpimg \n",
        "import seaborn as sns\n",
        "\n",
        "fig = plt.figure(figsize = (20,30))\n",
        "    \n",
        "for i in range(10):\n",
        "    df = pd.DataFrame(lda_model_tfidf.show_topic(i,12), columns=['term','prob']).set_index('term')\n",
        "    plt.subplot(5,2,i+1)\n",
        "    plt.title('topic'+str(i+1))\n",
        "    sns.barplot(x='prob', y=df.index, data=df)\n",
        "    plt.xlabel('probability')\n",
        "plt.show()"
      ],
      "metadata": {
        "id": "aCyuUOkMS_FT",
        "colab": {
          "base_uri": "https://localhost:8080/",
          "height": 1000
        },
        "outputId": "4ffbcd58-8c1f-4d77-ded7-5113f44fbcce"
      },
      "execution_count": null,
      "outputs": [
        {
          "output_type": "display_data",
          "data": {
            "text/plain": [
              "<Figure size 1440x2160 with 10 Axes>"
            ],
            "image/png": "[encoded data removed]"
          },
          "metadata": {
            "needs_background": "light"
          }
        }
      ]
    }
  ]
}